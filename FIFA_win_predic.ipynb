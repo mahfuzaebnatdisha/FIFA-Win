{
  "cells": [
    {
      "cell_type": "markdown",
      "metadata": {
        "id": "view-in-github",
        "colab_type": "text"
      },
      "source": [
        "<a href=\"https://colab.research.google.com/github/mahfuzaebnatdisha/FIFA-Win/blob/main/FIFA_win_predic.ipynb\" target=\"_parent\"><img src=\"https://colab.research.google.com/assets/colab-badge.svg\" alt=\"Open In Colab\"/></a>"
      ]
    },
    {
      "cell_type": "code",
      "execution_count": 74,
      "metadata": {
        "id": "-91ECKKHyNer"
      },
      "outputs": [],
      "source": [
        "import os\n",
        "import pandas as pd\n",
        "import numpy as np\n",
        "import seaborn as sns\n",
        "import matplotlib.pyplot as plt\n",
        "\n",
        "import warnings\n",
        "warnings.filterwarnings('ignore')"
      ]
    },
    {
      "cell_type": "code",
      "execution_count": 77,
      "metadata": {
        "id": "oXtCQrufyl3b"
      },
      "outputs": [],
      "source": [
        "from google.colab import drive"
      ]
    },
    {
      "cell_type": "code",
      "execution_count": 78,
      "metadata": {
        "colab": {
          "base_uri": "https://localhost:8080/"
        },
        "id": "H8qUr4CPyZps",
        "outputId": "943b0014-8443-4ee0-fbfa-5feb27222e21"
      },
      "outputs": [
        {
          "output_type": "stream",
          "name": "stdout",
          "text": [
            "Drive already mounted at /content/gdrive; to attempt to forcibly remount, call drive.mount(\"/content/gdrive\", force_remount=True).\n"
          ]
        }
      ],
      "source": [
        "drive.mount('/content/gdrive')"
      ]
    },
    {
      "cell_type": "code",
      "execution_count": 79,
      "metadata": {
        "id": "Q-gOuunhyynT"
      },
      "outputs": [],
      "source": [
        "FIFA = pd.DataFrame()\n",
        "for i in range(1930,1939,4):\n",
        "    temp = pd.read_csv('/content/gdrive/My Drive/Data/world-cup-dataset/FIFA - '+str(i)+'.csv') \n",
        "    FIFA = pd.concat([FIFA,temp],axis=0,ignore_index=True)"
      ]
    },
    {
      "cell_type": "code",
      "execution_count": 80,
      "metadata": {
        "id": "0buQv6vp0UP7"
      },
      "outputs": [],
      "source": [
        "for i in range(1950,2019,4):\n",
        "    temp = pd.read_csv('/content/gdrive/My Drive/Data/world-cup-dataset/FIFA - '+str(i)+'.csv')\n",
        "    FIFA = pd.concat([FIFA,temp],axis=0,ignore_index=True)"
      ]
    },
    {
      "cell_type": "code",
      "execution_count": 81,
      "metadata": {
        "id": "CcaOIIJe0hFy"
      },
      "outputs": [],
      "source": [
        "#Data inspection and cleaning"
      ]
    },
    {
      "cell_type": "code",
      "execution_count": 82,
      "metadata": {
        "colab": {
          "base_uri": "https://localhost:8080/",
          "height": 206
        },
        "id": "BRkiCsTQ0kNw",
        "outputId": "d96b9635-c197-4cfd-f2a2-9c5f20274b0e"
      },
      "outputs": [
        {
          "output_type": "execute_result",
          "data": {
            "text/plain": [
              "   Position           Team  Games Played  Win  Draw  Loss  Goals For  \\\n",
              "0         1        Uruguay             4    4     0     0         15   \n",
              "1         2      Argentina             5    4     0     1         18   \n",
              "2         3  United States             3    2     0     1          7   \n",
              "3         4     Yugoslavia             3    2     0     1          7   \n",
              "4         5          Chile             3    2     0     1          5   \n",
              "\n",
              "   Goals Against Goal Difference  Points  \n",
              "0              3              12       8  \n",
              "1              9               9       8  \n",
              "2              6               1       4  \n",
              "3              7               0       4  \n",
              "4              3               2       4  "
            ],
            "text/html": [
              "\n",
              "  <div id=\"df-5dad10b7-0ac3-43e4-85c3-55dbe2389218\">\n",
              "    <div class=\"colab-df-container\">\n",
              "      <div>\n",
              "<style scoped>\n",
              "    .dataframe tbody tr th:only-of-type {\n",
              "        vertical-align: middle;\n",
              "    }\n",
              "\n",
              "    .dataframe tbody tr th {\n",
              "        vertical-align: top;\n",
              "    }\n",
              "\n",
              "    .dataframe thead th {\n",
              "        text-align: right;\n",
              "    }\n",
              "</style>\n",
              "<table border=\"1\" class=\"dataframe\">\n",
              "  <thead>\n",
              "    <tr style=\"text-align: right;\">\n",
              "      <th></th>\n",
              "      <th>Position</th>\n",
              "      <th>Team</th>\n",
              "      <th>Games Played</th>\n",
              "      <th>Win</th>\n",
              "      <th>Draw</th>\n",
              "      <th>Loss</th>\n",
              "      <th>Goals For</th>\n",
              "      <th>Goals Against</th>\n",
              "      <th>Goal Difference</th>\n",
              "      <th>Points</th>\n",
              "    </tr>\n",
              "  </thead>\n",
              "  <tbody>\n",
              "    <tr>\n",
              "      <th>0</th>\n",
              "      <td>1</td>\n",
              "      <td>Uruguay</td>\n",
              "      <td>4</td>\n",
              "      <td>4</td>\n",
              "      <td>0</td>\n",
              "      <td>0</td>\n",
              "      <td>15</td>\n",
              "      <td>3</td>\n",
              "      <td>12</td>\n",
              "      <td>8</td>\n",
              "    </tr>\n",
              "    <tr>\n",
              "      <th>1</th>\n",
              "      <td>2</td>\n",
              "      <td>Argentina</td>\n",
              "      <td>5</td>\n",
              "      <td>4</td>\n",
              "      <td>0</td>\n",
              "      <td>1</td>\n",
              "      <td>18</td>\n",
              "      <td>9</td>\n",
              "      <td>9</td>\n",
              "      <td>8</td>\n",
              "    </tr>\n",
              "    <tr>\n",
              "      <th>2</th>\n",
              "      <td>3</td>\n",
              "      <td>United States</td>\n",
              "      <td>3</td>\n",
              "      <td>2</td>\n",
              "      <td>0</td>\n",
              "      <td>1</td>\n",
              "      <td>7</td>\n",
              "      <td>6</td>\n",
              "      <td>1</td>\n",
              "      <td>4</td>\n",
              "    </tr>\n",
              "    <tr>\n",
              "      <th>3</th>\n",
              "      <td>4</td>\n",
              "      <td>Yugoslavia</td>\n",
              "      <td>3</td>\n",
              "      <td>2</td>\n",
              "      <td>0</td>\n",
              "      <td>1</td>\n",
              "      <td>7</td>\n",
              "      <td>7</td>\n",
              "      <td>0</td>\n",
              "      <td>4</td>\n",
              "    </tr>\n",
              "    <tr>\n",
              "      <th>4</th>\n",
              "      <td>5</td>\n",
              "      <td>Chile</td>\n",
              "      <td>3</td>\n",
              "      <td>2</td>\n",
              "      <td>0</td>\n",
              "      <td>1</td>\n",
              "      <td>5</td>\n",
              "      <td>3</td>\n",
              "      <td>2</td>\n",
              "      <td>4</td>\n",
              "    </tr>\n",
              "  </tbody>\n",
              "</table>\n",
              "</div>\n",
              "      <button class=\"colab-df-convert\" onclick=\"convertToInteractive('df-5dad10b7-0ac3-43e4-85c3-55dbe2389218')\"\n",
              "              title=\"Convert this dataframe to an interactive table.\"\n",
              "              style=\"display:none;\">\n",
              "        \n",
              "  <svg xmlns=\"http://www.w3.org/2000/svg\" height=\"24px\"viewBox=\"0 0 24 24\"\n",
              "       width=\"24px\">\n",
              "    <path d=\"M0 0h24v24H0V0z\" fill=\"none\"/>\n",
              "    <path d=\"M18.56 5.44l.94 2.06.94-2.06 2.06-.94-2.06-.94-.94-2.06-.94 2.06-2.06.94zm-11 1L8.5 8.5l.94-2.06 2.06-.94-2.06-.94L8.5 2.5l-.94 2.06-2.06.94zm10 10l.94 2.06.94-2.06 2.06-.94-2.06-.94-.94-2.06-.94 2.06-2.06.94z\"/><path d=\"M17.41 7.96l-1.37-1.37c-.4-.4-.92-.59-1.43-.59-.52 0-1.04.2-1.43.59L10.3 9.45l-7.72 7.72c-.78.78-.78 2.05 0 2.83L4 21.41c.39.39.9.59 1.41.59.51 0 1.02-.2 1.41-.59l7.78-7.78 2.81-2.81c.8-.78.8-2.07 0-2.86zM5.41 20L4 18.59l7.72-7.72 1.47 1.35L5.41 20z\"/>\n",
              "  </svg>\n",
              "      </button>\n",
              "      \n",
              "  <style>\n",
              "    .colab-df-container {\n",
              "      display:flex;\n",
              "      flex-wrap:wrap;\n",
              "      gap: 12px;\n",
              "    }\n",
              "\n",
              "    .colab-df-convert {\n",
              "      background-color: #E8F0FE;\n",
              "      border: none;\n",
              "      border-radius: 50%;\n",
              "      cursor: pointer;\n",
              "      display: none;\n",
              "      fill: #1967D2;\n",
              "      height: 32px;\n",
              "      padding: 0 0 0 0;\n",
              "      width: 32px;\n",
              "    }\n",
              "\n",
              "    .colab-df-convert:hover {\n",
              "      background-color: #E2EBFA;\n",
              "      box-shadow: 0px 1px 2px rgba(60, 64, 67, 0.3), 0px 1px 3px 1px rgba(60, 64, 67, 0.15);\n",
              "      fill: #174EA6;\n",
              "    }\n",
              "\n",
              "    [theme=dark] .colab-df-convert {\n",
              "      background-color: #3B4455;\n",
              "      fill: #D2E3FC;\n",
              "    }\n",
              "\n",
              "    [theme=dark] .colab-df-convert:hover {\n",
              "      background-color: #434B5C;\n",
              "      box-shadow: 0px 1px 3px 1px rgba(0, 0, 0, 0.15);\n",
              "      filter: drop-shadow(0px 1px 2px rgba(0, 0, 0, 0.3));\n",
              "      fill: #FFFFFF;\n",
              "    }\n",
              "  </style>\n",
              "\n",
              "      <script>\n",
              "        const buttonEl =\n",
              "          document.querySelector('#df-5dad10b7-0ac3-43e4-85c3-55dbe2389218 button.colab-df-convert');\n",
              "        buttonEl.style.display =\n",
              "          google.colab.kernel.accessAllowed ? 'block' : 'none';\n",
              "\n",
              "        async function convertToInteractive(key) {\n",
              "          const element = document.querySelector('#df-5dad10b7-0ac3-43e4-85c3-55dbe2389218');\n",
              "          const dataTable =\n",
              "            await google.colab.kernel.invokeFunction('convertToInteractive',\n",
              "                                                     [key], {});\n",
              "          if (!dataTable) return;\n",
              "\n",
              "          const docLinkHtml = 'Like what you see? Visit the ' +\n",
              "            '<a target=\"_blank\" href=https://colab.research.google.com/notebooks/data_table.ipynb>data table notebook</a>'\n",
              "            + ' to learn more about interactive tables.';\n",
              "          element.innerHTML = '';\n",
              "          dataTable['output_type'] = 'display_data';\n",
              "          await google.colab.output.renderOutput(dataTable, element);\n",
              "          const docLink = document.createElement('div');\n",
              "          docLink.innerHTML = docLinkHtml;\n",
              "          element.appendChild(docLink);\n",
              "        }\n",
              "      </script>\n",
              "    </div>\n",
              "  </div>\n",
              "  "
            ]
          },
          "metadata": {},
          "execution_count": 82
        }
      ],
      "source": [
        "FIFA.head()"
      ]
    },
    {
      "cell_type": "code",
      "execution_count": 83,
      "metadata": {
        "colab": {
          "base_uri": "https://localhost:8080/"
        },
        "id": "OrwZKNJk0sya",
        "outputId": "1fa4cbcf-cf56-4829-ca18-e013244f2231"
      },
      "outputs": [
        {
          "output_type": "stream",
          "name": "stdout",
          "text": [
            "<class 'pandas.core.frame.DataFrame'>\n",
            "RangeIndex: 457 entries, 0 to 456\n",
            "Data columns (total 10 columns):\n",
            " #   Column           Non-Null Count  Dtype \n",
            "---  ------           --------------  ----- \n",
            " 0   Position         457 non-null    int64 \n",
            " 1   Team             457 non-null    object\n",
            " 2   Games Played     457 non-null    int64 \n",
            " 3   Win              457 non-null    int64 \n",
            " 4   Draw             457 non-null    int64 \n",
            " 5   Loss             457 non-null    int64 \n",
            " 6   Goals For        457 non-null    int64 \n",
            " 7   Goals Against    457 non-null    int64 \n",
            " 8   Goal Difference  457 non-null    object\n",
            " 9   Points           457 non-null    int64 \n",
            "dtypes: int64(8), object(2)\n",
            "memory usage: 35.8+ KB\n"
          ]
        }
      ],
      "source": [
        "FIFA.info()"
      ]
    },
    {
      "cell_type": "code",
      "execution_count": 85,
      "metadata": {
        "colab": {
          "base_uri": "https://localhost:8080/",
          "height": 206
        },
        "id": "wqB1-2D60xqC",
        "outputId": "080712e5-1c65-451f-f1c0-e15043d5b1b5"
      },
      "outputs": [
        {
          "output_type": "execute_result",
          "data": {
            "text/plain": [
              "   YEAR         HOST      CHAMPION       RUNNER UP    THIRD PLACE  TEAMS  \\\n",
              "0  1930      Uruguay       Uruguay       Argentina  United States     13   \n",
              "1  1934        Italy         Italy  Czechoslovakia        Germany     16   \n",
              "2  1938       France         Italy         Hungary         Brazil     15   \n",
              "3  1950       Brazil       Uruguay          Brazil         Sweden     13   \n",
              "4  1954  Switzerland  West Germany         Hungary        Austria     16   \n",
              "\n",
              "   MATCHES PLAYED  GOALS SCORED  AVG GOALS PER GAME  \n",
              "0              16            70                 3.6  \n",
              "1              17            70                 4.1  \n",
              "2              18            84                 4.7  \n",
              "3              22            88                 4.0  \n",
              "4              26           140                 5.4  "
            ],
            "text/html": [
              "\n",
              "  <div id=\"df-0f947bda-b643-42f7-bfee-71b5d3a58503\">\n",
              "    <div class=\"colab-df-container\">\n",
              "      <div>\n",
              "<style scoped>\n",
              "    .dataframe tbody tr th:only-of-type {\n",
              "        vertical-align: middle;\n",
              "    }\n",
              "\n",
              "    .dataframe tbody tr th {\n",
              "        vertical-align: top;\n",
              "    }\n",
              "\n",
              "    .dataframe thead th {\n",
              "        text-align: right;\n",
              "    }\n",
              "</style>\n",
              "<table border=\"1\" class=\"dataframe\">\n",
              "  <thead>\n",
              "    <tr style=\"text-align: right;\">\n",
              "      <th></th>\n",
              "      <th>YEAR</th>\n",
              "      <th>HOST</th>\n",
              "      <th>CHAMPION</th>\n",
              "      <th>RUNNER UP</th>\n",
              "      <th>THIRD PLACE</th>\n",
              "      <th>TEAMS</th>\n",
              "      <th>MATCHES PLAYED</th>\n",
              "      <th>GOALS SCORED</th>\n",
              "      <th>AVG GOALS PER GAME</th>\n",
              "    </tr>\n",
              "  </thead>\n",
              "  <tbody>\n",
              "    <tr>\n",
              "      <th>0</th>\n",
              "      <td>1930</td>\n",
              "      <td>Uruguay</td>\n",
              "      <td>Uruguay</td>\n",
              "      <td>Argentina</td>\n",
              "      <td>United States</td>\n",
              "      <td>13</td>\n",
              "      <td>16</td>\n",
              "      <td>70</td>\n",
              "      <td>3.6</td>\n",
              "    </tr>\n",
              "    <tr>\n",
              "      <th>1</th>\n",
              "      <td>1934</td>\n",
              "      <td>Italy</td>\n",
              "      <td>Italy</td>\n",
              "      <td>Czechoslovakia</td>\n",
              "      <td>Germany</td>\n",
              "      <td>16</td>\n",
              "      <td>17</td>\n",
              "      <td>70</td>\n",
              "      <td>4.1</td>\n",
              "    </tr>\n",
              "    <tr>\n",
              "      <th>2</th>\n",
              "      <td>1938</td>\n",
              "      <td>France</td>\n",
              "      <td>Italy</td>\n",
              "      <td>Hungary</td>\n",
              "      <td>Brazil</td>\n",
              "      <td>15</td>\n",
              "      <td>18</td>\n",
              "      <td>84</td>\n",
              "      <td>4.7</td>\n",
              "    </tr>\n",
              "    <tr>\n",
              "      <th>3</th>\n",
              "      <td>1950</td>\n",
              "      <td>Brazil</td>\n",
              "      <td>Uruguay</td>\n",
              "      <td>Brazil</td>\n",
              "      <td>Sweden</td>\n",
              "      <td>13</td>\n",
              "      <td>22</td>\n",
              "      <td>88</td>\n",
              "      <td>4.0</td>\n",
              "    </tr>\n",
              "    <tr>\n",
              "      <th>4</th>\n",
              "      <td>1954</td>\n",
              "      <td>Switzerland</td>\n",
              "      <td>West Germany</td>\n",
              "      <td>Hungary</td>\n",
              "      <td>Austria</td>\n",
              "      <td>16</td>\n",
              "      <td>26</td>\n",
              "      <td>140</td>\n",
              "      <td>5.4</td>\n",
              "    </tr>\n",
              "  </tbody>\n",
              "</table>\n",
              "</div>\n",
              "      <button class=\"colab-df-convert\" onclick=\"convertToInteractive('df-0f947bda-b643-42f7-bfee-71b5d3a58503')\"\n",
              "              title=\"Convert this dataframe to an interactive table.\"\n",
              "              style=\"display:none;\">\n",
              "        \n",
              "  <svg xmlns=\"http://www.w3.org/2000/svg\" height=\"24px\"viewBox=\"0 0 24 24\"\n",
              "       width=\"24px\">\n",
              "    <path d=\"M0 0h24v24H0V0z\" fill=\"none\"/>\n",
              "    <path d=\"M18.56 5.44l.94 2.06.94-2.06 2.06-.94-2.06-.94-.94-2.06-.94 2.06-2.06.94zm-11 1L8.5 8.5l.94-2.06 2.06-.94-2.06-.94L8.5 2.5l-.94 2.06-2.06.94zm10 10l.94 2.06.94-2.06 2.06-.94-2.06-.94-.94-2.06-.94 2.06-2.06.94z\"/><path d=\"M17.41 7.96l-1.37-1.37c-.4-.4-.92-.59-1.43-.59-.52 0-1.04.2-1.43.59L10.3 9.45l-7.72 7.72c-.78.78-.78 2.05 0 2.83L4 21.41c.39.39.9.59 1.41.59.51 0 1.02-.2 1.41-.59l7.78-7.78 2.81-2.81c.8-.78.8-2.07 0-2.86zM5.41 20L4 18.59l7.72-7.72 1.47 1.35L5.41 20z\"/>\n",
              "  </svg>\n",
              "      </button>\n",
              "      \n",
              "  <style>\n",
              "    .colab-df-container {\n",
              "      display:flex;\n",
              "      flex-wrap:wrap;\n",
              "      gap: 12px;\n",
              "    }\n",
              "\n",
              "    .colab-df-convert {\n",
              "      background-color: #E8F0FE;\n",
              "      border: none;\n",
              "      border-radius: 50%;\n",
              "      cursor: pointer;\n",
              "      display: none;\n",
              "      fill: #1967D2;\n",
              "      height: 32px;\n",
              "      padding: 0 0 0 0;\n",
              "      width: 32px;\n",
              "    }\n",
              "\n",
              "    .colab-df-convert:hover {\n",
              "      background-color: #E2EBFA;\n",
              "      box-shadow: 0px 1px 2px rgba(60, 64, 67, 0.3), 0px 1px 3px 1px rgba(60, 64, 67, 0.15);\n",
              "      fill: #174EA6;\n",
              "    }\n",
              "\n",
              "    [theme=dark] .colab-df-convert {\n",
              "      background-color: #3B4455;\n",
              "      fill: #D2E3FC;\n",
              "    }\n",
              "\n",
              "    [theme=dark] .colab-df-convert:hover {\n",
              "      background-color: #434B5C;\n",
              "      box-shadow: 0px 1px 3px 1px rgba(0, 0, 0, 0.15);\n",
              "      filter: drop-shadow(0px 1px 2px rgba(0, 0, 0, 0.3));\n",
              "      fill: #FFFFFF;\n",
              "    }\n",
              "  </style>\n",
              "\n",
              "      <script>\n",
              "        const buttonEl =\n",
              "          document.querySelector('#df-0f947bda-b643-42f7-bfee-71b5d3a58503 button.colab-df-convert');\n",
              "        buttonEl.style.display =\n",
              "          google.colab.kernel.accessAllowed ? 'block' : 'none';\n",
              "\n",
              "        async function convertToInteractive(key) {\n",
              "          const element = document.querySelector('#df-0f947bda-b643-42f7-bfee-71b5d3a58503');\n",
              "          const dataTable =\n",
              "            await google.colab.kernel.invokeFunction('convertToInteractive',\n",
              "                                                     [key], {});\n",
              "          if (!dataTable) return;\n",
              "\n",
              "          const docLinkHtml = 'Like what you see? Visit the ' +\n",
              "            '<a target=\"_blank\" href=https://colab.research.google.com/notebooks/data_table.ipynb>data table notebook</a>'\n",
              "            + ' to learn more about interactive tables.';\n",
              "          element.innerHTML = '';\n",
              "          dataTable['output_type'] = 'display_data';\n",
              "          await google.colab.output.renderOutput(dataTable, element);\n",
              "          const docLink = document.createElement('div');\n",
              "          docLink.innerHTML = docLinkHtml;\n",
              "          element.appendChild(docLink);\n",
              "        }\n",
              "      </script>\n",
              "    </div>\n",
              "  </div>\n",
              "  "
            ]
          },
          "metadata": {},
          "execution_count": 85
        }
      ],
      "source": [
        "FIFA_summary = pd.read_csv('/content/gdrive/My Drive/Data/world-cup-dataset/FIFA - World Cup Summary.csv')\n",
        "FIFA_summary.head()"
      ]
    },
    {
      "cell_type": "code",
      "execution_count": 86,
      "metadata": {
        "colab": {
          "base_uri": "https://localhost:8080/"
        },
        "id": "q9JNEA441MOD",
        "outputId": "7319a8b6-17af-49b0-80f5-c96d7b7b3ed3"
      },
      "outputs": [
        {
          "output_type": "execute_result",
          "data": {
            "text/plain": [
              "0      58\n",
              "−1     58\n",
              "−2     47\n",
              "−3     44\n",
              "2      32\n",
              "1      29\n",
              "−4     21\n",
              "4      18\n",
              "3      18\n",
              "−5     16\n",
              "5      14\n",
              "−6     14\n",
              "6      12\n",
              "8      10\n",
              "−8      8\n",
              "9       8\n",
              "7       7\n",
              "−7      7\n",
              "11      6\n",
              "10      5\n",
              "−9      5\n",
              "12      4\n",
              "−12     3\n",
              "−10     3\n",
              "14      2\n",
              "17      1\n",
              "16      1\n",
              "-2      1\n",
              "−16     1\n",
              "-1      1\n",
              "−14     1\n",
              "13      1\n",
              "−11     1\n",
              "Name: Goal Difference, dtype: int64"
            ]
          },
          "metadata": {},
          "execution_count": 86
        }
      ],
      "source": [
        "FIFA['Goal Difference'].value_counts()"
      ]
    },
    {
      "cell_type": "code",
      "execution_count": 87,
      "metadata": {
        "id": "MzLpwA1P1RQR"
      },
      "outputs": [],
      "source": [
        "FIFA['Goal Difference'] = FIFA['Goal Difference'].apply(lambda x: -int(x[1]) if x[0] in ['−','-'] else int(x))"
      ]
    },
    {
      "cell_type": "code",
      "execution_count": 88,
      "metadata": {
        "colab": {
          "base_uri": "https://localhost:8080/"
        },
        "id": "cdt30P0j1Vth",
        "outputId": "5bf38b29-41ea-4ab5-c521-67f994c35949"
      },
      "outputs": [
        {
          "output_type": "execute_result",
          "data": {
            "text/plain": [
              "count    457.000000\n",
              "mean       0.214442\n",
              "std        4.458135\n",
              "min       -9.000000\n",
              "25%       -3.000000\n",
              "50%       -1.000000\n",
              "75%        2.000000\n",
              "max       17.000000\n",
              "Name: Goal Difference, dtype: float64"
            ]
          },
          "metadata": {},
          "execution_count": 88
        }
      ],
      "source": [
        "FIFA['Goal Difference'].describe()"
      ]
    },
    {
      "cell_type": "code",
      "execution_count": 89,
      "metadata": {
        "colab": {
          "base_uri": "https://localhost:8080/"
        },
        "id": "OYBugb9g1Y_p",
        "outputId": "f21c2f0e-42b4-4b84-b4b3-95f9caec0bd8"
      },
      "outputs": [
        {
          "output_type": "execute_result",
          "data": {
            "text/plain": [
              "Brazil               21\n",
              "Italy                18\n",
              "Argentina            17\n",
              "Mexico               16\n",
              "Spain                15\n",
              "                     ..\n",
              "Israel*               1\n",
              "Wales                 1\n",
              "Dutch East Indies     1\n",
              "Cuba                  1\n",
              "Panama                1\n",
              "Name: Team, Length: 86, dtype: int64"
            ]
          },
          "metadata": {},
          "execution_count": 89
        }
      ],
      "source": [
        "FIFA['Team'].value_counts()"
      ]
    },
    {
      "cell_type": "code",
      "execution_count": 90,
      "metadata": {
        "id": "O1dj-M8Z1dFK"
      },
      "outputs": [],
      "source": [
        "FIFA['Team'] = FIFA['Team'].apply(lambda x: 'Germany' if x in ['West Germany', 'East Germany'] else x)"
      ]
    },
    {
      "cell_type": "code",
      "source": [
        "FIFA['Position'].value_counts()"
      ],
      "metadata": {
        "colab": {
          "base_uri": "https://localhost:8080/"
        },
        "id": "BYWoNEt07F6c",
        "outputId": "86e35a5c-a1cc-4b97-e460-8d1b716ade4a"
      },
      "execution_count": 91,
      "outputs": [
        {
          "output_type": "execute_result",
          "data": {
            "text/plain": [
              "9     23\n",
              "13    22\n",
              "1     21\n",
              "3     21\n",
              "4     21\n",
              "5     21\n",
              "6     21\n",
              "7     21\n",
              "8     21\n",
              "10    21\n",
              "2     21\n",
              "12    21\n",
              "15    19\n",
              "11    19\n",
              "14    18\n",
              "16    18\n",
              "18    11\n",
              "22    10\n",
              "24    10\n",
              "23    10\n",
              "17    10\n",
              "21    10\n",
              "20    10\n",
              "19     9\n",
              "25     7\n",
              "28     7\n",
              "27     6\n",
              "30     6\n",
              "31     6\n",
              "32     6\n",
              "26     5\n",
              "29     5\n",
              "Name: Position, dtype: int64"
            ]
          },
          "metadata": {},
          "execution_count": 91
        }
      ]
    },
    {
      "cell_type": "code",
      "source": [
        "plt.figure(figsize=(30,20))\n",
        "sns.countplot(y=FIFA['Team'])\n",
        "plt.title('Distribution of Teams')\n",
        "plt.show()"
      ],
      "metadata": {
        "colab": {
          "base_uri": "https://localhost:8080/",
          "height": 1000
        },
        "id": "1oFWf-CG7JCq",
        "outputId": "d5b380b6-a3e0-4ed6-a288-061a207b8efe"
      },
      "execution_count": 92,
      "outputs": [
        {
          "output_type": "display_data",
          "data": {
            "text/plain": [
              "<Figure size 2160x1440 with 1 Axes>"
            ],
            "image/png": "[encoded data removed]"
          },
          "metadata": {
            "needs_background": "light"
          }
        }
      ]
    },
    {
      "cell_type": "code",
      "source": [
        "Count = list(FIFA['Team'].value_counts())\n",
        "Count = np.array(Count)\n",
        "Count"
      ],
      "metadata": {
        "colab": {
          "base_uri": "https://localhost:8080/"
        },
        "id": "xUVhuDXA7Se7",
        "outputId": "5602ec8d-6aac-4687-f7d5-8be0bf5bf2f8"
      },
      "execution_count": 93,
      "outputs": [
        {
          "output_type": "execute_result",
          "data": {
            "text/plain": [
              "array([21, 20, 18, 17, 16, 15, 15, 15, 13, 13, 12, 11, 10, 10, 10,  9,  9,\n",
              "        8,  8,  8,  8,  8,  7,  7,  7,  7,  7,  6,  6,  6,  6,  5,  5,  5,\n",
              "        5,  5,  5,  5,  5,  5,  4,  4,  3,  3,  3,  3,  3,  3,  3,  3,  3,\n",
              "        3,  3,  2,  2,  2,  2,  2,  2,  2,  1,  1,  1,  1,  1,  1,  1,  1,\n",
              "        1,  1,  1,  1,  1,  1,  1,  1,  1,  1,  1,  1,  1,  1,  1,  1])"
            ]
          },
          "metadata": {},
          "execution_count": 93
        }
      ]
    },
    {
      "cell_type": "code",
      "source": [
        "FIFA['Count'] = 1"
      ],
      "metadata": {
        "id": "-vWocuT67VDq"
      },
      "execution_count": 94,
      "outputs": []
    },
    {
      "cell_type": "code",
      "source": [
        "def ag(x):\n",
        "    lis = list(x.columns)\n",
        "    lis.remove('Count')\n",
        "    lis.remove('Team')\n",
        "    dic = dict()\n",
        "    for i in lis:\n",
        "        dic[i] = 'mean'\n",
        "    dic['Count'] = 'sum'\n",
        "    return dic\n",
        "    \n",
        "FIFA = FIFA.groupby(['Team']).agg(ag(FIFA))\n",
        "FIFA.head()"
      ],
      "metadata": {
        "colab": {
          "base_uri": "https://localhost:8080/",
          "height": 237
        },
        "id": "rdFhqpI77XXC",
        "outputId": "61c56e44-b891-497a-cb49-13b7573af013"
      },
      "execution_count": 95,
      "outputs": [
        {
          "output_type": "execute_result",
          "data": {
            "text/plain": [
              "            Position  Games Played       Win      Draw      Loss  Goals For  \\\n",
              "Team                                                                          \n",
              "Algeria    19.250000      3.250000  0.750000  0.750000  1.750000   3.250000   \n",
              "Angola     23.000000      3.000000  0.000000  2.000000  1.000000   1.000000   \n",
              "Argentina   7.294118      4.764706  2.529412  0.882353  1.352941   8.058824   \n",
              "Australia  21.600000      3.200000  0.400000  0.800000  2.000000   2.600000   \n",
              "Austria    11.142857      4.142857  1.714286  0.571429  1.857143   6.142857   \n",
              "\n",
              "           Goals Against  Goal Difference    Points  Count  \n",
              "Team                                                        \n",
              "Algeria         4.750000        -1.500000  2.500000      4  \n",
              "Angola          2.000000        -1.000000  2.000000      1  \n",
              "Argentina       5.470588         2.588235  7.058824     17  \n",
              "Australia       6.200000        -3.600000  2.000000      5  \n",
              "Austria         6.714286        -0.571429  4.000000      7  "
            ],
            "text/html": [
              "\n",
              "  <div id=\"df-b8d3e60e-09a8-4966-a8a1-eb58fd2156eb\">\n",
              "    <div class=\"colab-df-container\">\n",
              "      <div>\n",
              "<style scoped>\n",
              "    .dataframe tbody tr th:only-of-type {\n",
              "        vertical-align: middle;\n",
              "    }\n",
              "\n",
              "    .dataframe tbody tr th {\n",
              "        vertical-align: top;\n",
              "    }\n",
              "\n",
              "    .dataframe thead th {\n",
              "        text-align: right;\n",
              "    }\n",
              "</style>\n",
              "<table border=\"1\" class=\"dataframe\">\n",
              "  <thead>\n",
              "    <tr style=\"text-align: right;\">\n",
              "      <th></th>\n",
              "      <th>Position</th>\n",
              "      <th>Games Played</th>\n",
              "      <th>Win</th>\n",
              "      <th>Draw</th>\n",
              "      <th>Loss</th>\n",
              "      <th>Goals For</th>\n",
              "      <th>Goals Against</th>\n",
              "      <th>Goal Difference</th>\n",
              "      <th>Points</th>\n",
              "      <th>Count</th>\n",
              "    </tr>\n",
              "    <tr>\n",
              "      <th>Team</th>\n",
              "      <th></th>\n",
              "      <th></th>\n",
              "      <th></th>\n",
              "      <th></th>\n",
              "      <th></th>\n",
              "      <th></th>\n",
              "      <th></th>\n",
              "      <th></th>\n",
              "      <th></th>\n",
              "      <th></th>\n",
              "    </tr>\n",
              "  </thead>\n",
              "  <tbody>\n",
              "    <tr>\n",
              "      <th>Algeria</th>\n",
              "      <td>19.250000</td>\n",
              "      <td>3.250000</td>\n",
              "      <td>0.750000</td>\n",
              "      <td>0.750000</td>\n",
              "      <td>1.750000</td>\n",
              "      <td>3.250000</td>\n",
              "      <td>4.750000</td>\n",
              "      <td>-1.500000</td>\n",
              "      <td>2.500000</td>\n",
              "      <td>4</td>\n",
              "    </tr>\n",
              "    <tr>\n",
              "      <th>Angola</th>\n",
              "      <td>23.000000</td>\n",
              "      <td>3.000000</td>\n",
              "      <td>0.000000</td>\n",
              "      <td>2.000000</td>\n",
              "      <td>1.000000</td>\n",
              "      <td>1.000000</td>\n",
              "      <td>2.000000</td>\n",
              "      <td>-1.000000</td>\n",
              "      <td>2.000000</td>\n",
              "      <td>1</td>\n",
              "    </tr>\n",
              "    <tr>\n",
              "      <th>Argentina</th>\n",
              "      <td>7.294118</td>\n",
              "      <td>4.764706</td>\n",
              "      <td>2.529412</td>\n",
              "      <td>0.882353</td>\n",
              "      <td>1.352941</td>\n",
              "      <td>8.058824</td>\n",
              "      <td>5.470588</td>\n",
              "      <td>2.588235</td>\n",
              "      <td>7.058824</td>\n",
              "      <td>17</td>\n",
              "    </tr>\n",
              "    <tr>\n",
              "      <th>Australia</th>\n",
              "      <td>21.600000</td>\n",
              "      <td>3.200000</td>\n",
              "      <td>0.400000</td>\n",
              "      <td>0.800000</td>\n",
              "      <td>2.000000</td>\n",
              "      <td>2.600000</td>\n",
              "      <td>6.200000</td>\n",
              "      <td>-3.600000</td>\n",
              "      <td>2.000000</td>\n",
              "      <td>5</td>\n",
              "    </tr>\n",
              "    <tr>\n",
              "      <th>Austria</th>\n",
              "      <td>11.142857</td>\n",
              "      <td>4.142857</td>\n",
              "      <td>1.714286</td>\n",
              "      <td>0.571429</td>\n",
              "      <td>1.857143</td>\n",
              "      <td>6.142857</td>\n",
              "      <td>6.714286</td>\n",
              "      <td>-0.571429</td>\n",
              "      <td>4.000000</td>\n",
              "      <td>7</td>\n",
              "    </tr>\n",
              "  </tbody>\n",
              "</table>\n",
              "</div>\n",
              "      <button class=\"colab-df-convert\" onclick=\"convertToInteractive('df-b8d3e60e-09a8-4966-a8a1-eb58fd2156eb')\"\n",
              "              title=\"Convert this dataframe to an interactive table.\"\n",
              "              style=\"display:none;\">\n",
              "        \n",
              "  <svg xmlns=\"http://www.w3.org/2000/svg\" height=\"24px\"viewBox=\"0 0 24 24\"\n",
              "       width=\"24px\">\n",
              "    <path d=\"M0 0h24v24H0V0z\" fill=\"none\"/>\n",
              "    <path d=\"M18.56 5.44l.94 2.06.94-2.06 2.06-.94-2.06-.94-.94-2.06-.94 2.06-2.06.94zm-11 1L8.5 8.5l.94-2.06 2.06-.94-2.06-.94L8.5 2.5l-.94 2.06-2.06.94zm10 10l.94 2.06.94-2.06 2.06-.94-2.06-.94-.94-2.06-.94 2.06-2.06.94z\"/><path d=\"M17.41 7.96l-1.37-1.37c-.4-.4-.92-.59-1.43-.59-.52 0-1.04.2-1.43.59L10.3 9.45l-7.72 7.72c-.78.78-.78 2.05 0 2.83L4 21.41c.39.39.9.59 1.41.59.51 0 1.02-.2 1.41-.59l7.78-7.78 2.81-2.81c.8-.78.8-2.07 0-2.86zM5.41 20L4 18.59l7.72-7.72 1.47 1.35L5.41 20z\"/>\n",
              "  </svg>\n",
              "      </button>\n",
              "      \n",
              "  <style>\n",
              "    .colab-df-container {\n",
              "      display:flex;\n",
              "      flex-wrap:wrap;\n",
              "      gap: 12px;\n",
              "    }\n",
              "\n",
              "    .colab-df-convert {\n",
              "      background-color: #E8F0FE;\n",
              "      border: none;\n",
              "      border-radius: 50%;\n",
              "      cursor: pointer;\n",
              "      display: none;\n",
              "      fill: #1967D2;\n",
              "      height: 32px;\n",
              "      padding: 0 0 0 0;\n",
              "      width: 32px;\n",
              "    }\n",
              "\n",
              "    .colab-df-convert:hover {\n",
              "      background-color: #E2EBFA;\n",
              "      box-shadow: 0px 1px 2px rgba(60, 64, 67, 0.3), 0px 1px 3px 1px rgba(60, 64, 67, 0.15);\n",
              "      fill: #174EA6;\n",
              "    }\n",
              "\n",
              "    [theme=dark] .colab-df-convert {\n",
              "      background-color: #3B4455;\n",
              "      fill: #D2E3FC;\n",
              "    }\n",
              "\n",
              "    [theme=dark] .colab-df-convert:hover {\n",
              "      background-color: #434B5C;\n",
              "      box-shadow: 0px 1px 3px 1px rgba(0, 0, 0, 0.15);\n",
              "      filter: drop-shadow(0px 1px 2px rgba(0, 0, 0, 0.3));\n",
              "      fill: #FFFFFF;\n",
              "    }\n",
              "  </style>\n",
              "\n",
              "      <script>\n",
              "        const buttonEl =\n",
              "          document.querySelector('#df-b8d3e60e-09a8-4966-a8a1-eb58fd2156eb button.colab-df-convert');\n",
              "        buttonEl.style.display =\n",
              "          google.colab.kernel.accessAllowed ? 'block' : 'none';\n",
              "\n",
              "        async function convertToInteractive(key) {\n",
              "          const element = document.querySelector('#df-b8d3e60e-09a8-4966-a8a1-eb58fd2156eb');\n",
              "          const dataTable =\n",
              "            await google.colab.kernel.invokeFunction('convertToInteractive',\n",
              "                                                     [key], {});\n",
              "          if (!dataTable) return;\n",
              "\n",
              "          const docLinkHtml = 'Like what you see? Visit the ' +\n",
              "            '<a target=\"_blank\" href=https://colab.research.google.com/notebooks/data_table.ipynb>data table notebook</a>'\n",
              "            + ' to learn more about interactive tables.';\n",
              "          element.innerHTML = '';\n",
              "          dataTable['output_type'] = 'display_data';\n",
              "          await google.colab.output.renderOutput(dataTable, element);\n",
              "          const docLink = document.createElement('div');\n",
              "          docLink.innerHTML = docLinkHtml;\n",
              "          element.appendChild(docLink);\n",
              "        }\n",
              "      </script>\n",
              "    </div>\n",
              "  </div>\n",
              "  "
            ]
          },
          "metadata": {},
          "execution_count": 95
        }
      ]
    },
    {
      "cell_type": "code",
      "source": [
        "FIFA.head()"
      ],
      "metadata": {
        "colab": {
          "base_uri": "https://localhost:8080/",
          "height": 237
        },
        "id": "75lSRskP7aCQ",
        "outputId": "7dae8da2-d050-4952-fbbc-2429a5cc25ee"
      },
      "execution_count": 96,
      "outputs": [
        {
          "output_type": "execute_result",
          "data": {
            "text/plain": [
              "            Position  Games Played       Win      Draw      Loss  Goals For  \\\n",
              "Team                                                                          \n",
              "Algeria    19.250000      3.250000  0.750000  0.750000  1.750000   3.250000   \n",
              "Angola     23.000000      3.000000  0.000000  2.000000  1.000000   1.000000   \n",
              "Argentina   7.294118      4.764706  2.529412  0.882353  1.352941   8.058824   \n",
              "Australia  21.600000      3.200000  0.400000  0.800000  2.000000   2.600000   \n",
              "Austria    11.142857      4.142857  1.714286  0.571429  1.857143   6.142857   \n",
              "\n",
              "           Goals Against  Goal Difference    Points  Count  \n",
              "Team                                                        \n",
              "Algeria         4.750000        -1.500000  2.500000      4  \n",
              "Angola          2.000000        -1.000000  2.000000      1  \n",
              "Argentina       5.470588         2.588235  7.058824     17  \n",
              "Australia       6.200000        -3.600000  2.000000      5  \n",
              "Austria         6.714286        -0.571429  4.000000      7  "
            ],
            "text/html": [
              "\n",
              "  <div id=\"df-58abb48e-4063-4305-8f67-f918f68ab7dd\">\n",
              "    <div class=\"colab-df-container\">\n",
              "      <div>\n",
              "<style scoped>\n",
              "    .dataframe tbody tr th:only-of-type {\n",
              "        vertical-align: middle;\n",
              "    }\n",
              "\n",
              "    .dataframe tbody tr th {\n",
              "        vertical-align: top;\n",
              "    }\n",
              "\n",
              "    .dataframe thead th {\n",
              "        text-align: right;\n",
              "    }\n",
              "</style>\n",
              "<table border=\"1\" class=\"dataframe\">\n",
              "  <thead>\n",
              "    <tr style=\"text-align: right;\">\n",
              "      <th></th>\n",
              "      <th>Position</th>\n",
              "      <th>Games Played</th>\n",
              "      <th>Win</th>\n",
              "      <th>Draw</th>\n",
              "      <th>Loss</th>\n",
              "      <th>Goals For</th>\n",
              "      <th>Goals Against</th>\n",
              "      <th>Goal Difference</th>\n",
              "      <th>Points</th>\n",
              "      <th>Count</th>\n",
              "    </tr>\n",
              "    <tr>\n",
              "      <th>Team</th>\n",
              "      <th></th>\n",
              "      <th></th>\n",
              "      <th></th>\n",
              "      <th></th>\n",
              "      <th></th>\n",
              "      <th></th>\n",
              "      <th></th>\n",
              "      <th></th>\n",
              "      <th></th>\n",
              "      <th></th>\n",
              "    </tr>\n",
              "  </thead>\n",
              "  <tbody>\n",
              "    <tr>\n",
              "      <th>Algeria</th>\n",
              "      <td>19.250000</td>\n",
              "      <td>3.250000</td>\n",
              "      <td>0.750000</td>\n",
              "      <td>0.750000</td>\n",
              "      <td>1.750000</td>\n",
              "      <td>3.250000</td>\n",
              "      <td>4.750000</td>\n",
              "      <td>-1.500000</td>\n",
              "      <td>2.500000</td>\n",
              "      <td>4</td>\n",
              "    </tr>\n",
              "    <tr>\n",
              "      <th>Angola</th>\n",
              "      <td>23.000000</td>\n",
              "      <td>3.000000</td>\n",
              "      <td>0.000000</td>\n",
              "      <td>2.000000</td>\n",
              "      <td>1.000000</td>\n",
              "      <td>1.000000</td>\n",
              "      <td>2.000000</td>\n",
              "      <td>-1.000000</td>\n",
              "      <td>2.000000</td>\n",
              "      <td>1</td>\n",
              "    </tr>\n",
              "    <tr>\n",
              "      <th>Argentina</th>\n",
              "      <td>7.294118</td>\n",
              "      <td>4.764706</td>\n",
              "      <td>2.529412</td>\n",
              "      <td>0.882353</td>\n",
              "      <td>1.352941</td>\n",
              "      <td>8.058824</td>\n",
              "      <td>5.470588</td>\n",
              "      <td>2.588235</td>\n",
              "      <td>7.058824</td>\n",
              "      <td>17</td>\n",
              "    </tr>\n",
              "    <tr>\n",
              "      <th>Australia</th>\n",
              "      <td>21.600000</td>\n",
              "      <td>3.200000</td>\n",
              "      <td>0.400000</td>\n",
              "      <td>0.800000</td>\n",
              "      <td>2.000000</td>\n",
              "      <td>2.600000</td>\n",
              "      <td>6.200000</td>\n",
              "      <td>-3.600000</td>\n",
              "      <td>2.000000</td>\n",
              "      <td>5</td>\n",
              "    </tr>\n",
              "    <tr>\n",
              "      <th>Austria</th>\n",
              "      <td>11.142857</td>\n",
              "      <td>4.142857</td>\n",
              "      <td>1.714286</td>\n",
              "      <td>0.571429</td>\n",
              "      <td>1.857143</td>\n",
              "      <td>6.142857</td>\n",
              "      <td>6.714286</td>\n",
              "      <td>-0.571429</td>\n",
              "      <td>4.000000</td>\n",
              "      <td>7</td>\n",
              "    </tr>\n",
              "  </tbody>\n",
              "</table>\n",
              "</div>\n",
              "      <button class=\"colab-df-convert\" onclick=\"convertToInteractive('df-58abb48e-4063-4305-8f67-f918f68ab7dd')\"\n",
              "              title=\"Convert this dataframe to an interactive table.\"\n",
              "              style=\"display:none;\">\n",
              "        \n",
              "  <svg xmlns=\"http://www.w3.org/2000/svg\" height=\"24px\"viewBox=\"0 0 24 24\"\n",
              "       width=\"24px\">\n",
              "    <path d=\"M0 0h24v24H0V0z\" fill=\"none\"/>\n",
              "    <path d=\"M18.56 5.44l.94 2.06.94-2.06 2.06-.94-2.06-.94-.94-2.06-.94 2.06-2.06.94zm-11 1L8.5 8.5l.94-2.06 2.06-.94-2.06-.94L8.5 2.5l-.94 2.06-2.06.94zm10 10l.94 2.06.94-2.06 2.06-.94-2.06-.94-.94-2.06-.94 2.06-2.06.94z\"/><path d=\"M17.41 7.96l-1.37-1.37c-.4-.4-.92-.59-1.43-.59-.52 0-1.04.2-1.43.59L10.3 9.45l-7.72 7.72c-.78.78-.78 2.05 0 2.83L4 21.41c.39.39.9.59 1.41.59.51 0 1.02-.2 1.41-.59l7.78-7.78 2.81-2.81c.8-.78.8-2.07 0-2.86zM5.41 20L4 18.59l7.72-7.72 1.47 1.35L5.41 20z\"/>\n",
              "  </svg>\n",
              "      </button>\n",
              "      \n",
              "  <style>\n",
              "    .colab-df-container {\n",
              "      display:flex;\n",
              "      flex-wrap:wrap;\n",
              "      gap: 12px;\n",
              "    }\n",
              "\n",
              "    .colab-df-convert {\n",
              "      background-color: #E8F0FE;\n",
              "      border: none;\n",
              "      border-radius: 50%;\n",
              "      cursor: pointer;\n",
              "      display: none;\n",
              "      fill: #1967D2;\n",
              "      height: 32px;\n",
              "      padding: 0 0 0 0;\n",
              "      width: 32px;\n",
              "    }\n",
              "\n",
              "    .colab-df-convert:hover {\n",
              "      background-color: #E2EBFA;\n",
              "      box-shadow: 0px 1px 2px rgba(60, 64, 67, 0.3), 0px 1px 3px 1px rgba(60, 64, 67, 0.15);\n",
              "      fill: #174EA6;\n",
              "    }\n",
              "\n",
              "    [theme=dark] .colab-df-convert {\n",
              "      background-color: #3B4455;\n",
              "      fill: #D2E3FC;\n",
              "    }\n",
              "\n",
              "    [theme=dark] .colab-df-convert:hover {\n",
              "      background-color: #434B5C;\n",
              "      box-shadow: 0px 1px 3px 1px rgba(0, 0, 0, 0.15);\n",
              "      filter: drop-shadow(0px 1px 2px rgba(0, 0, 0, 0.3));\n",
              "      fill: #FFFFFF;\n",
              "    }\n",
              "  </style>\n",
              "\n",
              "      <script>\n",
              "        const buttonEl =\n",
              "          document.querySelector('#df-58abb48e-4063-4305-8f67-f918f68ab7dd button.colab-df-convert');\n",
              "        buttonEl.style.display =\n",
              "          google.colab.kernel.accessAllowed ? 'block' : 'none';\n",
              "\n",
              "        async function convertToInteractive(key) {\n",
              "          const element = document.querySelector('#df-58abb48e-4063-4305-8f67-f918f68ab7dd');\n",
              "          const dataTable =\n",
              "            await google.colab.kernel.invokeFunction('convertToInteractive',\n",
              "                                                     [key], {});\n",
              "          if (!dataTable) return;\n",
              "\n",
              "          const docLinkHtml = 'Like what you see? Visit the ' +\n",
              "            '<a target=\"_blank\" href=https://colab.research.google.com/notebooks/data_table.ipynb>data table notebook</a>'\n",
              "            + ' to learn more about interactive tables.';\n",
              "          element.innerHTML = '';\n",
              "          dataTable['output_type'] = 'display_data';\n",
              "          await google.colab.output.renderOutput(dataTable, element);\n",
              "          const docLink = document.createElement('div');\n",
              "          docLink.innerHTML = docLinkHtml;\n",
              "          element.appendChild(docLink);\n",
              "        }\n",
              "      </script>\n",
              "    </div>\n",
              "  </div>\n",
              "  "
            ]
          },
          "metadata": {},
          "execution_count": 96
        }
      ]
    },
    {
      "cell_type": "code",
      "source": [
        "FIFA_Regular = FIFA[FIFA.Count>=13]\n",
        "FIFA_Irregular = FIFA[FIFA.Count<13]"
      ],
      "metadata": {
        "id": "7HOz4W8X7ddZ"
      },
      "execution_count": 97,
      "outputs": []
    },
    {
      "cell_type": "code",
      "source": [
        "FIFA_Regular.head()\n",
        "FIFA_Regular =FIFA_Regular.drop('Count',axis=1)"
      ],
      "metadata": {
        "id": "kqCvjmhh7gzj"
      },
      "execution_count": 98,
      "outputs": []
    },
    {
      "cell_type": "code",
      "source": [
        "FIFA_Regular.info()"
      ],
      "metadata": {
        "colab": {
          "base_uri": "https://localhost:8080/"
        },
        "id": "WCYn50nT7jGx",
        "outputId": "b9fb69c0-26f7-4e9e-b093-2f6531a1807e"
      },
      "execution_count": 99,
      "outputs": [
        {
          "output_type": "stream",
          "name": "stdout",
          "text": [
            "<class 'pandas.core.frame.DataFrame'>\n",
            "Index: 10 entries, Argentina to Uruguay\n",
            "Data columns (total 9 columns):\n",
            " #   Column           Non-Null Count  Dtype  \n",
            "---  ------           --------------  -----  \n",
            " 0   Position         10 non-null     float64\n",
            " 1   Games Played     10 non-null     float64\n",
            " 2   Win              10 non-null     float64\n",
            " 3   Draw             10 non-null     float64\n",
            " 4   Loss             10 non-null     float64\n",
            " 5   Goals For        10 non-null     float64\n",
            " 6   Goals Against    10 non-null     float64\n",
            " 7   Goal Difference  10 non-null     float64\n",
            " 8   Points           10 non-null     float64\n",
            "dtypes: float64(9)\n",
            "memory usage: 800.0+ bytes\n"
          ]
        }
      ]
    },
    {
      "cell_type": "code",
      "source": [
        "FIFA_Irregular.head()\n",
        "FIFA_Irregular = FIFA_Irregular.drop('Count',axis=1)"
      ],
      "metadata": {
        "id": "YKaEmcfI7lF5"
      },
      "execution_count": 100,
      "outputs": []
    },
    {
      "cell_type": "code",
      "source": [
        "FIFA_Irregular.info()"
      ],
      "metadata": {
        "colab": {
          "base_uri": "https://localhost:8080/"
        },
        "id": "uM4VJvw17nhx",
        "outputId": "55e16b74-a762-4354-cd69-caa39e92a4d6"
      },
      "execution_count": 101,
      "outputs": [
        {
          "output_type": "stream",
          "name": "stdout",
          "text": [
            "<class 'pandas.core.frame.DataFrame'>\n",
            "Index: 74 entries, Algeria to Zaire\n",
            "Data columns (total 9 columns):\n",
            " #   Column           Non-Null Count  Dtype  \n",
            "---  ------           --------------  -----  \n",
            " 0   Position         74 non-null     float64\n",
            " 1   Games Played     74 non-null     float64\n",
            " 2   Win              74 non-null     float64\n",
            " 3   Draw             74 non-null     float64\n",
            " 4   Loss             74 non-null     float64\n",
            " 5   Goals For        74 non-null     float64\n",
            " 6   Goals Against    74 non-null     float64\n",
            " 7   Goal Difference  74 non-null     float64\n",
            " 8   Points           74 non-null     float64\n",
            "dtypes: float64(9)\n",
            "memory usage: 5.8+ KB\n"
          ]
        }
      ]
    },
    {
      "cell_type": "code",
      "source": [
        "plt.figure(figsize=(15,10))\n",
        "sns.heatmap(FIFA_Regular.corr(),annot=True)\n",
        "plt.title('Heatmap of Variable Correlations')\n",
        "plt.show()"
      ],
      "metadata": {
        "colab": {
          "base_uri": "https://localhost:8080/",
          "height": 607
        },
        "id": "ulspfN_L7pSH",
        "outputId": "8d25b884-b034-4926-8b4d-8a54ec77d683"
      },
      "execution_count": 102,
      "outputs": [
        {
          "output_type": "display_data",
          "data": {
            "text/plain": [
              "<Figure size 1080x720 with 2 Axes>"
            ],
            "image/png": "[encoded data removed]"
          },
          "metadata": {
            "needs_background": "light"
          }
        }
      ]
    },
    {
      "cell_type": "code",
      "source": [
        "plt.figure(figsize=(15,10))\n",
        "sns.heatmap(FIFA_Irregular.corr(),annot=True)\n",
        "plt.title('Heatmap of Variable Correlations')\n",
        "plt.show()"
      ],
      "metadata": {
        "colab": {
          "base_uri": "https://localhost:8080/",
          "height": 607
        },
        "id": "PMhG7N3I7raB",
        "outputId": "c8d9c0f3-9dd5-4e06-daf6-83d0d5951787"
      },
      "execution_count": 103,
      "outputs": [
        {
          "output_type": "display_data",
          "data": {
            "text/plain": [
              "<Figure size 1080x720 with 2 Axes>"
            ],
            "image/png": "[encoded data removed]"
          },
          "metadata": {
            "needs_background": "light"
          }
        }
      ]
    },
    {
      "cell_type": "code",
      "source": [
        "#FIFA_Regular\n",
        "plt.figure(figsize=(15,5))\n",
        "sns.lineplot(x='Draw',y='Goal Difference',data=FIFA_Regular)\n",
        "plt.title('Goal Difference vs Draw')\n",
        "plt.xlabel('Draw')\n",
        "plt.ylabel('Goal Difference')\n",
        "plt.show()"
      ],
      "metadata": {
        "colab": {
          "base_uri": "https://localhost:8080/",
          "height": 350
        },
        "id": "uhY4n7nY7w4Y",
        "outputId": "82c47002-d535-4c69-a74e-ef4b5774b53d"
      },
      "execution_count": 104,
      "outputs": [
        {
          "output_type": "display_data",
          "data": {
            "text/plain": [
              "<Figure size 1080x360 with 1 Axes>"
            ],
            "image/png": "[encoded data removed]"
          },
          "metadata": {
            "needs_background": "light"
          }
        }
      ]
    },
    {
      "cell_type": "code",
      "source": [
        "#FIFA_Irregular\n",
        "plt.figure(figsize=(15,5))\n",
        "sns.lineplot(x='Draw',y='Goal Difference',data=FIFA_Irregular)\n",
        "plt.title('Goal Difference vs Draw')\n",
        "plt.xlabel('Draw')\n",
        "plt.ylabel('Goal Difference')\n",
        "plt.show()"
      ],
      "metadata": {
        "colab": {
          "base_uri": "https://localhost:8080/",
          "height": 350
        },
        "id": "69gGKHLO73Dg",
        "outputId": "0632319e-0dbb-4a63-bd58-750663f71f2a"
      },
      "execution_count": 105,
      "outputs": [
        {
          "output_type": "display_data",
          "data": {
            "text/plain": [
              "<Figure size 1080x360 with 1 Axes>"
            ],
            "image/png": "[encoded data removed]"
          },
          "metadata": {
            "needs_background": "light"
          }
        }
      ]
    },
    {
      "cell_type": "code",
      "source": [
        "#FIFA_Regular\n",
        "plt.figure(figsize=(15,5))\n",
        "sns.lineplot(x='Draw',y='Win',data=FIFA_Regular)\n",
        "plt.title('Win vs Draw')\n",
        "plt.xlabel('Draw')\n",
        "plt.ylabel('Win')\n",
        "plt.show()"
      ],
      "metadata": {
        "colab": {
          "base_uri": "https://localhost:8080/",
          "height": 350
        },
        "id": "pk_Cj80f75jB",
        "outputId": "e261eac1-888f-4f11-cafd-535136fb8c46"
      },
      "execution_count": 106,
      "outputs": [
        {
          "output_type": "display_data",
          "data": {
            "text/plain": [
              "<Figure size 1080x360 with 1 Axes>"
            ],
            "image/png": "[encoded data removed]"
          },
          "metadata": {
            "needs_background": "light"
          }
        }
      ]
    },
    {
      "cell_type": "code",
      "source": [
        "#FIFA_Irregular\n",
        "plt.figure(figsize=(15,5))\n",
        "sns.lineplot(x='Draw',y='Win',data=FIFA_Irregular)\n",
        "plt.title('Win vs Draw')\n",
        "plt.xlabel('Draw')\n",
        "plt.ylabel('Win')\n",
        "plt.show()"
      ],
      "metadata": {
        "colab": {
          "base_uri": "https://localhost:8080/",
          "height": 350
        },
        "id": "qRMrhJ0A77zY",
        "outputId": "94732792-588f-48f9-d99a-7b98764de0e2"
      },
      "execution_count": 107,
      "outputs": [
        {
          "output_type": "display_data",
          "data": {
            "text/plain": [
              "<Figure size 1080x360 with 1 Axes>"
            ],
            "image/png": "[encoded data removed]"
          },
          "metadata": {
            "needs_background": "light"
          }
        }
      ]
    },
    {
      "cell_type": "code",
      "source": [
        "#FIFA_Regular\n",
        "plt.figure(figsize=(10,5))\n",
        "sns.lineplot(x='Draw',y='Games Played',data=FIFA_Regular)\n",
        "plt.title('Win vs Draw')\n",
        "plt.xlabel('Draw')\n",
        "plt.ylabel('Win')\n",
        "plt.show()"
      ],
      "metadata": {
        "colab": {
          "base_uri": "https://localhost:8080/",
          "height": 350
        },
        "id": "E8uMBR7Y7-15",
        "outputId": "01734e26-7eed-48f8-9ad2-ebc05add35ae"
      },
      "execution_count": 108,
      "outputs": [
        {
          "output_type": "display_data",
          "data": {
            "text/plain": [
              "<Figure size 720x360 with 1 Axes>"
            ],
            "image/png": "[encoded data removed]"
          },
          "metadata": {
            "needs_background": "light"
          }
        }
      ]
    },
    {
      "cell_type": "code",
      "source": [
        "#FIFA_Irregular\n",
        "plt.figure(figsize=(15,5))\n",
        "sns.lineplot(x='Draw',y='Games Played',data=FIFA_Irregular)\n",
        "plt.title('Games Played vs Draw')\n",
        "plt.xlabel('Draw')\n",
        "plt.ylabel('Games Played')\n",
        "plt.show()"
      ],
      "metadata": {
        "colab": {
          "base_uri": "https://localhost:8080/",
          "height": 350
        },
        "id": "ID8eEand8Bp3",
        "outputId": "f4172ea8-4564-4542-eb97-f56cb2e5ce53"
      },
      "execution_count": 109,
      "outputs": [
        {
          "output_type": "display_data",
          "data": {
            "text/plain": [
              "<Figure size 1080x360 with 1 Axes>"
            ],
            "image/png": "[encoded data removed]"
          },
          "metadata": {
            "needs_background": "light"
          }
        }
      ]
    },
    {
      "cell_type": "code",
      "source": [
        "#FIFA_Regular\n",
        "plt.figure(figsize=(15,5))\n",
        "sns.barplot(x=FIFA_Regular.index,y='Games Played',data=FIFA_Regular)\n",
        "plt.title('Games Played vs Country')\n",
        "plt.xlabel('Country')\n",
        "plt.ylabel('Games Played')\n",
        "plt.show()"
      ],
      "metadata": {
        "colab": {
          "base_uri": "https://localhost:8080/",
          "height": 350
        },
        "id": "-PN-1nTo8EIX",
        "outputId": "8c360138-3d21-43ee-e6ae-aa7c32e1566d"
      },
      "execution_count": 110,
      "outputs": [
        {
          "output_type": "display_data",
          "data": {
            "text/plain": [
              "<Figure size 1080x360 with 1 Axes>"
            ],
            "image/png": "[encoded data removed]"
          },
          "metadata": {
            "needs_background": "light"
          }
        }
      ]
    },
    {
      "cell_type": "code",
      "source": [
        "#FIFA_Regular\n",
        "plt.figure(figsize=(15,5))\n",
        "sns.barplot(x=FIFA_Regular.index,y='Win',data=FIFA_Regular)\n",
        "plt.title('Win vs Country')\n",
        "plt.xlabel('Country')\n",
        "plt.ylabel('Win')\n",
        "plt.show()"
      ],
      "metadata": {
        "colab": {
          "base_uri": "https://localhost:8080/",
          "height": 350
        },
        "id": "VmO0qiYQ8IEw",
        "outputId": "6f9626e7-d620-4b9c-9c81-d4a72a8d5d32"
      },
      "execution_count": 111,
      "outputs": [
        {
          "output_type": "display_data",
          "data": {
            "text/plain": [
              "<Figure size 1080x360 with 1 Axes>"
            ],
            "image/png": "[encoded data removed]"
          },
          "metadata": {
            "needs_background": "light"
          }
        }
      ]
    },
    {
      "cell_type": "code",
      "source": [
        "#FIFA_Regular\n",
        "plt.figure(figsize=(15,5))\n",
        "sns.barplot(x=FIFA_Regular.index,y='Goal Difference',data=FIFA_Regular)\n",
        "plt.title('Goal Difference vs Country')\n",
        "plt.xlabel('Country')\n",
        "plt.ylabel('Goal Difference')\n",
        "plt.show()"
      ],
      "metadata": {
        "colab": {
          "base_uri": "https://localhost:8080/",
          "height": 350
        },
        "id": "lNqG3TMw8MfI",
        "outputId": "73dff208-4b05-4f72-c86c-737eccfd0cb1"
      },
      "execution_count": 112,
      "outputs": [
        {
          "output_type": "display_data",
          "data": {
            "text/plain": [
              "<Figure size 1080x360 with 1 Axes>"
            ],
            "image/png": "[encoded data removed]"
          },
          "metadata": {
            "needs_background": "light"
          }
        }
      ]
    },
    {
      "cell_type": "code",
      "source": [
        "#FIFA_Regular\n",
        "plt.figure(figsize=(15,5))\n",
        "sns.barplot(x=FIFA_Regular.index,y='Position',data=FIFA_Regular)\n",
        "plt.title('Position vs Country')\n",
        "plt.xlabel('Country')\n",
        "plt.ylabel('Position')\n",
        "plt.show()"
      ],
      "metadata": {
        "colab": {
          "base_uri": "https://localhost:8080/",
          "height": 350
        },
        "id": "0wOBBaSa8OvA",
        "outputId": "7d3edd61-d876-46e8-9e9e-3739f02c0c05"
      },
      "execution_count": 113,
      "outputs": [
        {
          "output_type": "display_data",
          "data": {
            "text/plain": [
              "<Figure size 1080x360 with 1 Axes>"
            ],
            "image/png": "[encoded data removed]"
          },
          "metadata": {
            "needs_background": "light"
          }
        }
      ]
    },
    {
      "cell_type": "code",
      "source": [
        "FIFA_Regular.head()"
      ],
      "metadata": {
        "colab": {
          "base_uri": "https://localhost:8080/",
          "height": 237
        },
        "id": "TMgI1G6r8QsK",
        "outputId": "d423d78e-82f4-416f-d582-6114e4f356c1"
      },
      "execution_count": 114,
      "outputs": [
        {
          "output_type": "execute_result",
          "data": {
            "text/plain": [
              "            Position  Games Played       Win      Draw      Loss  Goals For  \\\n",
              "Team                                                                          \n",
              "Argentina   7.294118      4.764706  2.529412  0.882353  1.352941   8.058824   \n",
              "Belgium    10.692308      3.692308  1.538462  0.692308  1.461538   5.230769   \n",
              "Brazil      4.571429      5.190476  3.476190  0.857143  0.857143  10.904762   \n",
              "England     8.400000      4.600000  1.933333  1.400000  1.266667   6.066667   \n",
              "France      9.200000      4.400000  2.266667  0.866667  1.266667   8.000000   \n",
              "\n",
              "           Goals Against  Goal Difference    Points  \n",
              "Team                                                 \n",
              "Argentina       5.470588         2.588235  7.058824  \n",
              "Belgium         5.538462        -0.307692  4.769231  \n",
              "Brazil          5.000000         5.904762  9.190476  \n",
              "England         4.266667         1.800000  6.000000  \n",
              "France          5.133333         2.866667  6.666667  "
            ],
            "text/html": [
              "\n",
              "  <div id=\"df-34eede90-3d6f-4dbc-a998-e525046cdf79\">\n",
              "    <div class=\"colab-df-container\">\n",
              "      <div>\n",
              "<style scoped>\n",
              "    .dataframe tbody tr th:only-of-type {\n",
              "        vertical-align: middle;\n",
              "    }\n",
              "\n",
              "    .dataframe tbody tr th {\n",
              "        vertical-align: top;\n",
              "    }\n",
              "\n",
              "    .dataframe thead th {\n",
              "        text-align: right;\n",
              "    }\n",
              "</style>\n",
              "<table border=\"1\" class=\"dataframe\">\n",
              "  <thead>\n",
              "    <tr style=\"text-align: right;\">\n",
              "      <th></th>\n",
              "      <th>Position</th>\n",
              "      <th>Games Played</th>\n",
              "      <th>Win</th>\n",
              "      <th>Draw</th>\n",
              "      <th>Loss</th>\n",
              "      <th>Goals For</th>\n",
              "      <th>Goals Against</th>\n",
              "      <th>Goal Difference</th>\n",
              "      <th>Points</th>\n",
              "    </tr>\n",
              "    <tr>\n",
              "      <th>Team</th>\n",
              "      <th></th>\n",
              "      <th></th>\n",
              "      <th></th>\n",
              "      <th></th>\n",
              "      <th></th>\n",
              "      <th></th>\n",
              "      <th></th>\n",
              "      <th></th>\n",
              "      <th></th>\n",
              "    </tr>\n",
              "  </thead>\n",
              "  <tbody>\n",
              "    <tr>\n",
              "      <th>Argentina</th>\n",
              "      <td>7.294118</td>\n",
              "      <td>4.764706</td>\n",
              "      <td>2.529412</td>\n",
              "      <td>0.882353</td>\n",
              "      <td>1.352941</td>\n",
              "      <td>8.058824</td>\n",
              "      <td>5.470588</td>\n",
              "      <td>2.588235</td>\n",
              "      <td>7.058824</td>\n",
              "    </tr>\n",
              "    <tr>\n",
              "      <th>Belgium</th>\n",
              "      <td>10.692308</td>\n",
              "      <td>3.692308</td>\n",
              "      <td>1.538462</td>\n",
              "      <td>0.692308</td>\n",
              "      <td>1.461538</td>\n",
              "      <td>5.230769</td>\n",
              "      <td>5.538462</td>\n",
              "      <td>-0.307692</td>\n",
              "      <td>4.769231</td>\n",
              "    </tr>\n",
              "    <tr>\n",
              "      <th>Brazil</th>\n",
              "      <td>4.571429</td>\n",
              "      <td>5.190476</td>\n",
              "      <td>3.476190</td>\n",
              "      <td>0.857143</td>\n",
              "      <td>0.857143</td>\n",
              "      <td>10.904762</td>\n",
              "      <td>5.000000</td>\n",
              "      <td>5.904762</td>\n",
              "      <td>9.190476</td>\n",
              "    </tr>\n",
              "    <tr>\n",
              "      <th>England</th>\n",
              "      <td>8.400000</td>\n",
              "      <td>4.600000</td>\n",
              "      <td>1.933333</td>\n",
              "      <td>1.400000</td>\n",
              "      <td>1.266667</td>\n",
              "      <td>6.066667</td>\n",
              "      <td>4.266667</td>\n",
              "      <td>1.800000</td>\n",
              "      <td>6.000000</td>\n",
              "    </tr>\n",
              "    <tr>\n",
              "      <th>France</th>\n",
              "      <td>9.200000</td>\n",
              "      <td>4.400000</td>\n",
              "      <td>2.266667</td>\n",
              "      <td>0.866667</td>\n",
              "      <td>1.266667</td>\n",
              "      <td>8.000000</td>\n",
              "      <td>5.133333</td>\n",
              "      <td>2.866667</td>\n",
              "      <td>6.666667</td>\n",
              "    </tr>\n",
              "  </tbody>\n",
              "</table>\n",
              "</div>\n",
              "      <button class=\"colab-df-convert\" onclick=\"convertToInteractive('df-34eede90-3d6f-4dbc-a998-e525046cdf79')\"\n",
              "              title=\"Convert this dataframe to an interactive table.\"\n",
              "              style=\"display:none;\">\n",
              "        \n",
              "  <svg xmlns=\"http://www.w3.org/2000/svg\" height=\"24px\"viewBox=\"0 0 24 24\"\n",
              "       width=\"24px\">\n",
              "    <path d=\"M0 0h24v24H0V0z\" fill=\"none\"/>\n",
              "    <path d=\"M18.56 5.44l.94 2.06.94-2.06 2.06-.94-2.06-.94-.94-2.06-.94 2.06-2.06.94zm-11 1L8.5 8.5l.94-2.06 2.06-.94-2.06-.94L8.5 2.5l-.94 2.06-2.06.94zm10 10l.94 2.06.94-2.06 2.06-.94-2.06-.94-.94-2.06-.94 2.06-2.06.94z\"/><path d=\"M17.41 7.96l-1.37-1.37c-.4-.4-.92-.59-1.43-.59-.52 0-1.04.2-1.43.59L10.3 9.45l-7.72 7.72c-.78.78-.78 2.05 0 2.83L4 21.41c.39.39.9.59 1.41.59.51 0 1.02-.2 1.41-.59l7.78-7.78 2.81-2.81c.8-.78.8-2.07 0-2.86zM5.41 20L4 18.59l7.72-7.72 1.47 1.35L5.41 20z\"/>\n",
              "  </svg>\n",
              "      </button>\n",
              "      \n",
              "  <style>\n",
              "    .colab-df-container {\n",
              "      display:flex;\n",
              "      flex-wrap:wrap;\n",
              "      gap: 12px;\n",
              "    }\n",
              "\n",
              "    .colab-df-convert {\n",
              "      background-color: #E8F0FE;\n",
              "      border: none;\n",
              "      border-radius: 50%;\n",
              "      cursor: pointer;\n",
              "      display: none;\n",
              "      fill: #1967D2;\n",
              "      height: 32px;\n",
              "      padding: 0 0 0 0;\n",
              "      width: 32px;\n",
              "    }\n",
              "\n",
              "    .colab-df-convert:hover {\n",
              "      background-color: #E2EBFA;\n",
              "      box-shadow: 0px 1px 2px rgba(60, 64, 67, 0.3), 0px 1px 3px 1px rgba(60, 64, 67, 0.15);\n",
              "      fill: #174EA6;\n",
              "    }\n",
              "\n",
              "    [theme=dark] .colab-df-convert {\n",
              "      background-color: #3B4455;\n",
              "      fill: #D2E3FC;\n",
              "    }\n",
              "\n",
              "    [theme=dark] .colab-df-convert:hover {\n",
              "      background-color: #434B5C;\n",
              "      box-shadow: 0px 1px 3px 1px rgba(0, 0, 0, 0.15);\n",
              "      filter: drop-shadow(0px 1px 2px rgba(0, 0, 0, 0.3));\n",
              "      fill: #FFFFFF;\n",
              "    }\n",
              "  </style>\n",
              "\n",
              "      <script>\n",
              "        const buttonEl =\n",
              "          document.querySelector('#df-34eede90-3d6f-4dbc-a998-e525046cdf79 button.colab-df-convert');\n",
              "        buttonEl.style.display =\n",
              "          google.colab.kernel.accessAllowed ? 'block' : 'none';\n",
              "\n",
              "        async function convertToInteractive(key) {\n",
              "          const element = document.querySelector('#df-34eede90-3d6f-4dbc-a998-e525046cdf79');\n",
              "          const dataTable =\n",
              "            await google.colab.kernel.invokeFunction('convertToInteractive',\n",
              "                                                     [key], {});\n",
              "          if (!dataTable) return;\n",
              "\n",
              "          const docLinkHtml = 'Like what you see? Visit the ' +\n",
              "            '<a target=\"_blank\" href=https://colab.research.google.com/notebooks/data_table.ipynb>data table notebook</a>'\n",
              "            + ' to learn more about interactive tables.';\n",
              "          element.innerHTML = '';\n",
              "          dataTable['output_type'] = 'display_data';\n",
              "          await google.colab.output.renderOutput(dataTable, element);\n",
              "          const docLink = document.createElement('div');\n",
              "          docLink.innerHTML = docLinkHtml;\n",
              "          element.appendChild(docLink);\n",
              "        }\n",
              "      </script>\n",
              "    </div>\n",
              "  </div>\n",
              "  "
            ]
          },
          "metadata": {},
          "execution_count": 114
        }
      ]
    },
    {
      "cell_type": "code",
      "source": [
        "FIFA_Irregular.head()"
      ],
      "metadata": {
        "colab": {
          "base_uri": "https://localhost:8080/",
          "height": 237
        },
        "id": "IbyX2POO8TCw",
        "outputId": "0323d031-a21d-452d-c94d-57103246f13b"
      },
      "execution_count": 115,
      "outputs": [
        {
          "output_type": "execute_result",
          "data": {
            "text/plain": [
              "            Position  Games Played       Win      Draw      Loss  Goals For  \\\n",
              "Team                                                                          \n",
              "Algeria    19.250000      3.250000  0.750000  0.750000  1.750000   3.250000   \n",
              "Angola     23.000000      3.000000  0.000000  2.000000  1.000000   1.000000   \n",
              "Australia  21.600000      3.200000  0.400000  0.800000  2.000000   2.600000   \n",
              "Austria    11.142857      4.142857  1.714286  0.571429  1.857143   6.142857   \n",
              "Bolivia    15.333333      2.000000  0.000000  0.333333  1.666667   0.333333   \n",
              "\n",
              "           Goals Against  Goal Difference    Points  \n",
              "Team                                                 \n",
              "Algeria         4.750000        -1.500000  2.500000  \n",
              "Angola          2.000000        -1.000000  2.000000  \n",
              "Australia       6.200000        -3.600000  2.000000  \n",
              "Austria         6.714286        -0.571429  4.000000  \n",
              "Bolivia         6.666667        -6.333333  0.333333  "
            ],
            "text/html": [
              "\n",
              "  <div id=\"df-157b15e5-75e4-477f-acb4-733978797687\">\n",
              "    <div class=\"colab-df-container\">\n",
              "      <div>\n",
              "<style scoped>\n",
              "    .dataframe tbody tr th:only-of-type {\n",
              "        vertical-align: middle;\n",
              "    }\n",
              "\n",
              "    .dataframe tbody tr th {\n",
              "        vertical-align: top;\n",
              "    }\n",
              "\n",
              "    .dataframe thead th {\n",
              "        text-align: right;\n",
              "    }\n",
              "</style>\n",
              "<table border=\"1\" class=\"dataframe\">\n",
              "  <thead>\n",
              "    <tr style=\"text-align: right;\">\n",
              "      <th></th>\n",
              "      <th>Position</th>\n",
              "      <th>Games Played</th>\n",
              "      <th>Win</th>\n",
              "      <th>Draw</th>\n",
              "      <th>Loss</th>\n",
              "      <th>Goals For</th>\n",
              "      <th>Goals Against</th>\n",
              "      <th>Goal Difference</th>\n",
              "      <th>Points</th>\n",
              "    </tr>\n",
              "    <tr>\n",
              "      <th>Team</th>\n",
              "      <th></th>\n",
              "      <th></th>\n",
              "      <th></th>\n",
              "      <th></th>\n",
              "      <th></th>\n",
              "      <th></th>\n",
              "      <th></th>\n",
              "      <th></th>\n",
              "      <th></th>\n",
              "    </tr>\n",
              "  </thead>\n",
              "  <tbody>\n",
              "    <tr>\n",
              "      <th>Algeria</th>\n",
              "      <td>19.250000</td>\n",
              "      <td>3.250000</td>\n",
              "      <td>0.750000</td>\n",
              "      <td>0.750000</td>\n",
              "      <td>1.750000</td>\n",
              "      <td>3.250000</td>\n",
              "      <td>4.750000</td>\n",
              "      <td>-1.500000</td>\n",
              "      <td>2.500000</td>\n",
              "    </tr>\n",
              "    <tr>\n",
              "      <th>Angola</th>\n",
              "      <td>23.000000</td>\n",
              "      <td>3.000000</td>\n",
              "      <td>0.000000</td>\n",
              "      <td>2.000000</td>\n",
              "      <td>1.000000</td>\n",
              "      <td>1.000000</td>\n",
              "      <td>2.000000</td>\n",
              "      <td>-1.000000</td>\n",
              "      <td>2.000000</td>\n",
              "    </tr>\n",
              "    <tr>\n",
              "      <th>Australia</th>\n",
              "      <td>21.600000</td>\n",
              "      <td>3.200000</td>\n",
              "      <td>0.400000</td>\n",
              "      <td>0.800000</td>\n",
              "      <td>2.000000</td>\n",
              "      <td>2.600000</td>\n",
              "      <td>6.200000</td>\n",
              "      <td>-3.600000</td>\n",
              "      <td>2.000000</td>\n",
              "    </tr>\n",
              "    <tr>\n",
              "      <th>Austria</th>\n",
              "      <td>11.142857</td>\n",
              "      <td>4.142857</td>\n",
              "      <td>1.714286</td>\n",
              "      <td>0.571429</td>\n",
              "      <td>1.857143</td>\n",
              "      <td>6.142857</td>\n",
              "      <td>6.714286</td>\n",
              "      <td>-0.571429</td>\n",
              "      <td>4.000000</td>\n",
              "    </tr>\n",
              "    <tr>\n",
              "      <th>Bolivia</th>\n",
              "      <td>15.333333</td>\n",
              "      <td>2.000000</td>\n",
              "      <td>0.000000</td>\n",
              "      <td>0.333333</td>\n",
              "      <td>1.666667</td>\n",
              "      <td>0.333333</td>\n",
              "      <td>6.666667</td>\n",
              "      <td>-6.333333</td>\n",
              "      <td>0.333333</td>\n",
              "    </tr>\n",
              "  </tbody>\n",
              "</table>\n",
              "</div>\n",
              "      <button class=\"colab-df-convert\" onclick=\"convertToInteractive('df-157b15e5-75e4-477f-acb4-733978797687')\"\n",
              "              title=\"Convert this dataframe to an interactive table.\"\n",
              "              style=\"display:none;\">\n",
              "        \n",
              "  <svg xmlns=\"http://www.w3.org/2000/svg\" height=\"24px\"viewBox=\"0 0 24 24\"\n",
              "       width=\"24px\">\n",
              "    <path d=\"M0 0h24v24H0V0z\" fill=\"none\"/>\n",
              "    <path d=\"M18.56 5.44l.94 2.06.94-2.06 2.06-.94-2.06-.94-.94-2.06-.94 2.06-2.06.94zm-11 1L8.5 8.5l.94-2.06 2.06-.94-2.06-.94L8.5 2.5l-.94 2.06-2.06.94zm10 10l.94 2.06.94-2.06 2.06-.94-2.06-.94-.94-2.06-.94 2.06-2.06.94z\"/><path d=\"M17.41 7.96l-1.37-1.37c-.4-.4-.92-.59-1.43-.59-.52 0-1.04.2-1.43.59L10.3 9.45l-7.72 7.72c-.78.78-.78 2.05 0 2.83L4 21.41c.39.39.9.59 1.41.59.51 0 1.02-.2 1.41-.59l7.78-7.78 2.81-2.81c.8-.78.8-2.07 0-2.86zM5.41 20L4 18.59l7.72-7.72 1.47 1.35L5.41 20z\"/>\n",
              "  </svg>\n",
              "      </button>\n",
              "      \n",
              "  <style>\n",
              "    .colab-df-container {\n",
              "      display:flex;\n",
              "      flex-wrap:wrap;\n",
              "      gap: 12px;\n",
              "    }\n",
              "\n",
              "    .colab-df-convert {\n",
              "      background-color: #E8F0FE;\n",
              "      border: none;\n",
              "      border-radius: 50%;\n",
              "      cursor: pointer;\n",
              "      display: none;\n",
              "      fill: #1967D2;\n",
              "      height: 32px;\n",
              "      padding: 0 0 0 0;\n",
              "      width: 32px;\n",
              "    }\n",
              "\n",
              "    .colab-df-convert:hover {\n",
              "      background-color: #E2EBFA;\n",
              "      box-shadow: 0px 1px 2px rgba(60, 64, 67, 0.3), 0px 1px 3px 1px rgba(60, 64, 67, 0.15);\n",
              "      fill: #174EA6;\n",
              "    }\n",
              "\n",
              "    [theme=dark] .colab-df-convert {\n",
              "      background-color: #3B4455;\n",
              "      fill: #D2E3FC;\n",
              "    }\n",
              "\n",
              "    [theme=dark] .colab-df-convert:hover {\n",
              "      background-color: #434B5C;\n",
              "      box-shadow: 0px 1px 3px 1px rgba(0, 0, 0, 0.15);\n",
              "      filter: drop-shadow(0px 1px 2px rgba(0, 0, 0, 0.3));\n",
              "      fill: #FFFFFF;\n",
              "    }\n",
              "  </style>\n",
              "\n",
              "      <script>\n",
              "        const buttonEl =\n",
              "          document.querySelector('#df-157b15e5-75e4-477f-acb4-733978797687 button.colab-df-convert');\n",
              "        buttonEl.style.display =\n",
              "          google.colab.kernel.accessAllowed ? 'block' : 'none';\n",
              "\n",
              "        async function convertToInteractive(key) {\n",
              "          const element = document.querySelector('#df-157b15e5-75e4-477f-acb4-733978797687');\n",
              "          const dataTable =\n",
              "            await google.colab.kernel.invokeFunction('convertToInteractive',\n",
              "                                                     [key], {});\n",
              "          if (!dataTable) return;\n",
              "\n",
              "          const docLinkHtml = 'Like what you see? Visit the ' +\n",
              "            '<a target=\"_blank\" href=https://colab.research.google.com/notebooks/data_table.ipynb>data table notebook</a>'\n",
              "            + ' to learn more about interactive tables.';\n",
              "          element.innerHTML = '';\n",
              "          dataTable['output_type'] = 'display_data';\n",
              "          await google.colab.output.renderOutput(dataTable, element);\n",
              "          const docLink = document.createElement('div');\n",
              "          docLink.innerHTML = docLinkHtml;\n",
              "          element.appendChild(docLink);\n",
              "        }\n",
              "      </script>\n",
              "    </div>\n",
              "  </div>\n",
              "  "
            ]
          },
          "metadata": {},
          "execution_count": 115
        }
      ]
    },
    {
      "cell_type": "code",
      "source": [
        "from sklearn.preprocessing import StandardScaler"
      ],
      "metadata": {
        "id": "qSsuUMMD8VRI"
      },
      "execution_count": 116,
      "outputs": []
    },
    {
      "cell_type": "code",
      "source": [
        "scaler = StandardScaler()\n",
        "col = FIFA_Regular.columns\n",
        "FIFA_Regular_clust = scaler.fit_transform(FIFA_Regular)\n",
        "FIFA_Regular_clust = pd.DataFrame(FIFA_Regular_clust,columns=col)\n",
        "print(FIFA_Regular_clust.head())\n",
        "print(FIFA_Regular_clust.info())"
      ],
      "metadata": {
        "colab": {
          "base_uri": "https://localhost:8080/"
        },
        "id": "dj2dShfn8XaB",
        "outputId": "a60c6de6-faca-46cf-cc66-a36969911d2a"
      },
      "execution_count": 117,
      "outputs": [
        {
          "output_type": "stream",
          "name": "stdout",
          "text": [
            "   Position  Games Played       Win      Draw      Loss  Goals For  \\\n",
            "0 -0.450150      0.434463  0.380409 -0.494972  0.337891   0.294716   \n",
            "1  1.023084     -1.297257 -0.961370 -1.496023  0.784989  -0.953118   \n",
            "2 -1.630530      1.122001  1.662379 -0.627765 -1.703323   1.550440   \n",
            "3  0.029289      0.168494 -0.426700  2.231698 -0.017303  -0.584292   \n",
            "4  0.376117     -0.154468  0.024644 -0.577599 -0.017303   0.268761   \n",
            "\n",
            "   Goals Against  Goal Difference    Points  \n",
            "0       0.281053         0.191619  0.331301  \n",
            "1       0.377963        -1.146031 -0.992816  \n",
            "2      -0.390859         1.723548  1.564079  \n",
            "3      -1.437922        -0.172472 -0.281038  \n",
            "4      -0.200484         0.320229  0.104509  \n",
            "<class 'pandas.core.frame.DataFrame'>\n",
            "RangeIndex: 10 entries, 0 to 9\n",
            "Data columns (total 9 columns):\n",
            " #   Column           Non-Null Count  Dtype  \n",
            "---  ------           --------------  -----  \n",
            " 0   Position         10 non-null     float64\n",
            " 1   Games Played     10 non-null     float64\n",
            " 2   Win              10 non-null     float64\n",
            " 3   Draw             10 non-null     float64\n",
            " 4   Loss             10 non-null     float64\n",
            " 5   Goals For        10 non-null     float64\n",
            " 6   Goals Against    10 non-null     float64\n",
            " 7   Goal Difference  10 non-null     float64\n",
            " 8   Points           10 non-null     float64\n",
            "dtypes: float64(9)\n",
            "memory usage: 848.0 bytes\n",
            "None\n"
          ]
        }
      ]
    },
    {
      "cell_type": "code",
      "source": [
        "from sklearn.neighbors import NearestNeighbors\n",
        "from random import sample\n",
        "from numpy.random import uniform\n",
        "import numpy as np\n",
        "from math import isnan\n",
        " \n",
        "def hopkins(X):\n",
        "    d = X.shape[1]\n",
        "    #d = len(vars) # columns\n",
        "    n = len(X) # rows\n",
        "    m = int(0.1 * n) \n",
        "    nbrs = NearestNeighbors(n_neighbors=1).fit(X.values)\n",
        " \n",
        "    rand_X = sample(range(0, n, 1), m)\n",
        " \n",
        "    ujd = []\n",
        "    wjd = []\n",
        "    for j in range(0, m):\n",
        "        u_dist, _ = nbrs.kneighbors(uniform(np.amin(X,axis=0),np.amax(X,axis=0),d).reshape(1, -1), 2, return_distance=True)\n",
        "        ujd.append(u_dist[0][1])\n",
        "        w_dist, _ = nbrs.kneighbors(X.iloc[rand_X[j]].values.reshape(1, -1), 2, return_distance=True)\n",
        "        wjd.append(w_dist[0][1])\n",
        " \n",
        "    H = sum(ujd) / (sum(ujd) + sum(wjd))\n",
        "    if isnan(H):\n",
        "        print(ujd, wjd)\n",
        "        H = 0\n",
        " \n",
        "    return H"
      ],
      "metadata": {
        "id": "hBgrIyfi8ZWQ"
      },
      "execution_count": 130,
      "outputs": []
    },
    {
      "cell_type": "code",
      "source": [
        "hopkins(FIFA_Regular_clust)"
      ],
      "metadata": {
        "colab": {
          "base_uri": "https://localhost:8080/"
        },
        "id": "NxjHAR5-8dvY",
        "outputId": "7e200173-e7b4-4798-f38b-a1ff73383806"
      },
      "execution_count": 132,
      "outputs": [
        {
          "output_type": "execute_result",
          "data": {
            "text/plain": [
              "0.6195091800677809"
            ]
          },
          "metadata": {},
          "execution_count": 132
        }
      ]
    },
    {
      "cell_type": "code",
      "source": [
        "from sklearn.cluster import KMeans\n",
        "from sklearn.metrics import silhouette_score\n",
        "ssd = []\n",
        "range_n_clusters = [2, 3, 4, 5, 6, 7, 8]\n",
        "for num_clusters in range_n_clusters:\n",
        "    kmeans = KMeans(n_clusters=num_clusters, max_iter=50)\n",
        "    kmeans.fit(FIFA_Regular_clust)\n",
        "    \n",
        "    ssd.append(kmeans.inertia_)\n",
        "    \n",
        "plt.plot(ssd)\n",
        "plt.show()"
      ],
      "metadata": {
        "colab": {
          "base_uri": "https://localhost:8080/",
          "height": 268
        },
        "id": "_vPj-e6QBSf-",
        "outputId": "675161f2-e4a4-400c-a6aa-68bd73d748b3"
      },
      "execution_count": 133,
      "outputs": [
        {
          "output_type": "display_data",
          "data": {
            "text/plain": [
              "<Figure size 432x288 with 1 Axes>"
            ],
            "image/png": "[encoded data removed]"
          },
          "metadata": {}
        }
      ]
    },
    {
      "cell_type": "code",
      "source": [
        "range_n_clusters = [2, 3, 4, 5, 6, 7, 8]\n",
        "\n",
        "for num_clusters in range_n_clusters:\n",
        "    \n",
        "    kmeans = KMeans(n_clusters=num_clusters, max_iter=50)\n",
        "    kmeans.fit(FIFA_Regular_clust)\n",
        "    \n",
        "    cluster_labels = kmeans.labels_\n",
        "    \n",
        "    silhouette_avg = silhouette_score(FIFA_Regular_clust, cluster_labels)\n",
        "    print(\"For n_clusters={0}, the silhouette score is {1}\".format(num_clusters, silhouette_avg))"
      ],
      "metadata": {
        "colab": {
          "base_uri": "https://localhost:8080/"
        },
        "id": "jq_kmeE-BW0U",
        "outputId": "a34a1233-0fa6-46a1-b60d-04ffc9c429b1"
      },
      "execution_count": 134,
      "outputs": [
        {
          "output_type": "stream",
          "name": "stdout",
          "text": [
            "For n_clusters=2, the silhouette score is 0.4207800579311806\n",
            "For n_clusters=3, the silhouette score is 0.3646067711386097\n",
            "For n_clusters=4, the silhouette score is 0.3125510094242091\n",
            "For n_clusters=5, the silhouette score is 0.23890875195177436\n",
            "For n_clusters=6, the silhouette score is 0.15892134443187372\n",
            "For n_clusters=7, the silhouette score is 0.11355393974786909\n",
            "For n_clusters=8, the silhouette score is 0.08996279984786629\n"
          ]
        }
      ]
    },
    {
      "cell_type": "code",
      "source": [
        "kmeans = KMeans(n_clusters=3,max_iter=100)\n",
        "kmeans.fit(FIFA_Regular_clust)"
      ],
      "metadata": {
        "colab": {
          "base_uri": "https://localhost:8080/"
        },
        "id": "rUCv1G25BZlz",
        "outputId": "e5ec31f2-69fd-4f5a-c9cd-01be0dc66b25"
      },
      "execution_count": 135,
      "outputs": [
        {
          "output_type": "execute_result",
          "data": {
            "text/plain": [
              "KMeans(max_iter=100, n_clusters=3)"
            ]
          },
          "metadata": {},
          "execution_count": 135
        }
      ]
    },
    {
      "cell_type": "code",
      "source": [
        "FIFA_Regular['Cluster_ID'] = kmeans.labels_"
      ],
      "metadata": {
        "id": "lS7ZphoFBdWT"
      },
      "execution_count": 136,
      "outputs": []
    },
    {
      "cell_type": "code",
      "source": [
        "plt.figure(figsize=(15,5))\n",
        "sns.barplot(x='Cluster_ID',y='Games Played',palette='deep',data=FIFA_Regular)\n",
        "plt.title('Cluster vs Games Played')\n",
        "plt.xlabel('Cluster')\n",
        "plt.ylabel('Games Played')\n",
        "plt.show()"
      ],
      "metadata": {
        "colab": {
          "base_uri": "https://localhost:8080/",
          "height": 355
        },
        "id": "ovRoXDIxBd7Z",
        "outputId": "17573a79-3518-43b1-eeea-1324bdd55e2c"
      },
      "execution_count": 137,
      "outputs": [
        {
          "output_type": "display_data",
          "data": {
            "text/plain": [
              "<Figure size 1080x360 with 1 Axes>"
            ],
            "image/png": "[encoded data removed]"
          },
          "metadata": {}
        }
      ]
    },
    {
      "cell_type": "code",
      "source": [
        "plt.figure(figsize=(15,5))\n",
        "sns.barplot(x='Cluster_ID',y='Win',palette='deep',data=FIFA_Regular)\n",
        "plt.title('Win vs Games Played')\n",
        "plt.xlabel('Win')\n",
        "plt.ylabel('Games Played')\n",
        "plt.show()"
      ],
      "metadata": {
        "colab": {
          "base_uri": "https://localhost:8080/",
          "height": 355
        },
        "id": "cQFmIwwJBi4r",
        "outputId": "8fca1a2d-8300-442f-a0c3-63d0a7062517"
      },
      "execution_count": 138,
      "outputs": [
        {
          "output_type": "display_data",
          "data": {
            "text/plain": [
              "<Figure size 1080x360 with 1 Axes>"
            ],
            "image/png": "[encoded data removed]"
          },
          "metadata": {}
        }
      ]
    },
    {
      "cell_type": "code",
      "source": [
        "plt.figure(figsize=(15,5))\n",
        "sns.barplot(x='Cluster_ID',y='Position',palette='deep',data=FIFA_Regular)\n",
        "plt.title('Clusters vs Position')\n",
        "plt.xlabel('Clusters')\n",
        "plt.ylabel('Position')\n",
        "plt.show()"
      ],
      "metadata": {
        "colab": {
          "base_uri": "https://localhost:8080/",
          "height": 355
        },
        "id": "_8PlC1fRBlvU",
        "outputId": "9608ca69-348f-4ec9-edf4-b334eca15231"
      },
      "execution_count": 139,
      "outputs": [
        {
          "output_type": "display_data",
          "data": {
            "text/plain": [
              "<Figure size 1080x360 with 1 Axes>"
            ],
            "image/png": "[encoded data removed]"
          },
          "metadata": {}
        }
      ]
    },
    {
      "cell_type": "code",
      "source": [
        "print('Cluster 1 :', list(FIFA_Regular[FIFA_Regular.Cluster_ID == 0].index))\n",
        "print('Cluster 2 :', list(FIFA_Regular[FIFA_Regular.Cluster_ID == 1].index))\n",
        "print('Cluster 3 :', list(FIFA_Regular[FIFA_Regular.Cluster_ID == 2].index))"
      ],
      "metadata": {
        "colab": {
          "base_uri": "https://localhost:8080/"
        },
        "id": "WSK5n6UIBocb",
        "outputId": "48af0728-86d8-4697-ae6c-38167a1709f4"
      },
      "execution_count": 140,
      "outputs": [
        {
          "output_type": "stream",
          "name": "stdout",
          "text": [
            "Cluster 1 : ['Argentina', 'England', 'France', 'Italy', 'Spain']\n",
            "Cluster 2 : ['Belgium', 'Mexico', 'Uruguay']\n",
            "Cluster 3 : ['Brazil', 'Germany']\n"
          ]
        }
      ]
    },
    {
      "cell_type": "code",
      "source": [
        "scaler = StandardScaler()\n",
        "col = FIFA_Irregular.columns\n",
        "FIFA_Irregular_clust = scaler.fit_transform(FIFA_Irregular)\n",
        "FIFA_Irregular_clust = pd.DataFrame(FIFA_Irregular,columns=col)\n",
        "print(FIFA_Irregular_clust.head())\n",
        "print(FIFA_Irregular_clust.info())"
      ],
      "metadata": {
        "colab": {
          "base_uri": "https://localhost:8080/"
        },
        "id": "lX620nRVBrTD",
        "outputId": "71c5ca4a-3792-472f-a870-aec21670bdb9"
      },
      "execution_count": 141,
      "outputs": [
        {
          "output_type": "stream",
          "name": "stdout",
          "text": [
            "            Position  Games Played       Win      Draw      Loss  Goals For  \\\n",
            "Team                                                                          \n",
            "Algeria    19.250000      3.250000  0.750000  0.750000  1.750000   3.250000   \n",
            "Angola     23.000000      3.000000  0.000000  2.000000  1.000000   1.000000   \n",
            "Australia  21.600000      3.200000  0.400000  0.800000  2.000000   2.600000   \n",
            "Austria    11.142857      4.142857  1.714286  0.571429  1.857143   6.142857   \n",
            "Bolivia    15.333333      2.000000  0.000000  0.333333  1.666667   0.333333   \n",
            "\n",
            "           Goals Against  Goal Difference    Points  \n",
            "Team                                                 \n",
            "Algeria         4.750000        -1.500000  2.500000  \n",
            "Angola          2.000000        -1.000000  2.000000  \n",
            "Australia       6.200000        -3.600000  2.000000  \n",
            "Austria         6.714286        -0.571429  4.000000  \n",
            "Bolivia         6.666667        -6.333333  0.333333  \n",
            "<class 'pandas.core.frame.DataFrame'>\n",
            "Index: 74 entries, Algeria to Zaire\n",
            "Data columns (total 9 columns):\n",
            " #   Column           Non-Null Count  Dtype  \n",
            "---  ------           --------------  -----  \n",
            " 0   Position         74 non-null     float64\n",
            " 1   Games Played     74 non-null     float64\n",
            " 2   Win              74 non-null     float64\n",
            " 3   Draw             74 non-null     float64\n",
            " 4   Loss             74 non-null     float64\n",
            " 5   Goals For        74 non-null     float64\n",
            " 6   Goals Against    74 non-null     float64\n",
            " 7   Goal Difference  74 non-null     float64\n",
            " 8   Points           74 non-null     float64\n",
            "dtypes: float64(9)\n",
            "memory usage: 5.8+ KB\n",
            "None\n"
          ]
        }
      ]
    },
    {
      "cell_type": "code",
      "source": [
        "hopkins(FIFA_Irregular_clust)"
      ],
      "metadata": {
        "colab": {
          "base_uri": "https://localhost:8080/"
        },
        "id": "6StxhIXrBrZe",
        "outputId": "9d4e3ee7-d0a6-46ac-f5bd-8ca1c9a571ec"
      },
      "execution_count": 142,
      "outputs": [
        {
          "output_type": "execute_result",
          "data": {
            "text/plain": [
              "0.732663303953267"
            ]
          },
          "metadata": {},
          "execution_count": 142
        }
      ]
    },
    {
      "cell_type": "code",
      "source": [
        "ssd = []\n",
        "range_n_clusters = [2, 3, 4, 5, 6, 7, 8]\n",
        "for num_clusters in range_n_clusters:\n",
        "    kmeans = KMeans(n_clusters=num_clusters, max_iter=50)\n",
        "    kmeans.fit(FIFA_Irregular_clust)\n",
        "    \n",
        "    ssd.append(kmeans.inertia_)\n",
        "    \n",
        "plt.plot(ssd)\n",
        "plt.show()"
      ],
      "metadata": {
        "colab": {
          "base_uri": "https://localhost:8080/",
          "height": 270
        },
        "id": "DRCQTMG3BwlV",
        "outputId": "22653381-0199-40ed-b4e1-b8192c7a2001"
      },
      "execution_count": 143,
      "outputs": [
        {
          "output_type": "display_data",
          "data": {
            "text/plain": [
              "<Figure size 432x288 with 1 Axes>"
            ],
            "image/png": "[encoded data removed]"
          },
          "metadata": {}
        }
      ]
    },
    {
      "cell_type": "code",
      "source": [
        "range_n_clusters = [2, 3, 4, 5, 6, 7, 8]\n",
        "\n",
        "for num_clusters in range_n_clusters:\n",
        "    \n",
        "    kmeans = KMeans(n_clusters=num_clusters, max_iter=50)\n",
        "    kmeans.fit(FIFA_Irregular_clust)\n",
        "    \n",
        "    cluster_labels = kmeans.labels_\n",
        "    \n",
        "    silhouette_avg = silhouette_score(FIFA_Irregular_clust, cluster_labels)\n",
        "    print(\"For n_clusters={0}, the silhouette score is {1}\".format(num_clusters, silhouette_avg))"
      ],
      "metadata": {
        "colab": {
          "base_uri": "https://localhost:8080/"
        },
        "id": "0gVbFckwBzkb",
        "outputId": "e0d63caf-73fc-4a9e-ae86-bc82aacb3bc3"
      },
      "execution_count": 144,
      "outputs": [
        {
          "output_type": "stream",
          "name": "stdout",
          "text": [
            "For n_clusters=2, the silhouette score is 0.427751520775045\n",
            "For n_clusters=3, the silhouette score is 0.3756256244108486\n",
            "For n_clusters=4, the silhouette score is 0.33924023516795215\n",
            "For n_clusters=5, the silhouette score is 0.31919293691656564\n",
            "For n_clusters=6, the silhouette score is 0.2831483683402146\n",
            "For n_clusters=7, the silhouette score is 0.28911087797327806\n",
            "For n_clusters=8, the silhouette score is 0.2828422837806189\n"
          ]
        }
      ]
    },
    {
      "cell_type": "code",
      "source": [
        "kmeans = KMeans(n_clusters=3,max_iter=100)\n",
        "kmeans.fit(FIFA_Irregular_clust)"
      ],
      "metadata": {
        "colab": {
          "base_uri": "https://localhost:8080/"
        },
        "id": "McIwIab7B3yc",
        "outputId": "c427a3e4-14b1-428f-aa85-a1fe30e1bdc6"
      },
      "execution_count": 145,
      "outputs": [
        {
          "output_type": "execute_result",
          "data": {
            "text/plain": [
              "KMeans(max_iter=100, n_clusters=3)"
            ]
          },
          "metadata": {},
          "execution_count": 145
        }
      ]
    },
    {
      "cell_type": "code",
      "source": [
        "FIFA_Irregular['Cluster_ID'] = kmeans.labels_"
      ],
      "metadata": {
        "id": "lAPyea05B6Ak"
      },
      "execution_count": 146,
      "outputs": []
    },
    {
      "cell_type": "code",
      "source": [
        "plt.figure(figsize=(15,5))\n",
        "sns.barplot(x='Cluster_ID',y='Games Played',palette='deep',data=FIFA_Irregular)\n",
        "plt.title('Cluster vs Games Played')\n",
        "plt.xlabel('Cluster')\n",
        "plt.ylabel('Games Played')\n",
        "plt.show()"
      ],
      "metadata": {
        "colab": {
          "base_uri": "https://localhost:8080/",
          "height": 355
        },
        "id": "plICmediB8vD",
        "outputId": "845f1f0a-c3c1-41ce-f33c-ebc48cfc3e9a"
      },
      "execution_count": 147,
      "outputs": [
        {
          "output_type": "display_data",
          "data": {
            "text/plain": [
              "<Figure size 1080x360 with 1 Axes>"
            ],
            "image/png": "[encoded data removed]"
          },
          "metadata": {}
        }
      ]
    },
    {
      "cell_type": "code",
      "source": [
        "plt.figure(figsize=(15,5))\n",
        "sns.barplot(x='Cluster_ID',y='Win',palette='deep',data=FIFA_Irregular)\n",
        "plt.title('Win vs Games Played')\n",
        "plt.xlabel('Win')\n",
        "plt.ylabel('Games Played')\n",
        "plt.show()"
      ],
      "metadata": {
        "colab": {
          "base_uri": "https://localhost:8080/",
          "height": 355
        },
        "id": "WCN9rWhZB_H-",
        "outputId": "48b03737-5012-47a0-d576-fd279278ec66"
      },
      "execution_count": 148,
      "outputs": [
        {
          "output_type": "display_data",
          "data": {
            "text/plain": [
              "<Figure size 1080x360 with 1 Axes>"
            ],
            "image/png": "[encoded data removed]"
          },
          "metadata": {}
        }
      ]
    },
    {
      "cell_type": "code",
      "source": [
        "plt.figure(figsize=(15,5))\n",
        "sns.barplot(x='Cluster_ID',y='Position',palette='deep',data=FIFA_Irregular)\n",
        "plt.title('Clusters vs Position')\n",
        "plt.xlabel('Clusters')\n",
        "plt.ylabel('Position')\n",
        "plt.show()"
      ],
      "metadata": {
        "colab": {
          "base_uri": "https://localhost:8080/",
          "height": 355
        },
        "id": "tCkqk9bhCArO",
        "outputId": "e2af3596-2ac9-4660-8f62-dfdba6f10c47"
      },
      "execution_count": 149,
      "outputs": [
        {
          "output_type": "display_data",
          "data": {
            "text/plain": [
              "<Figure size 1080x360 with 1 Axes>"
            ],
            "image/png": "[encoded data removed]"
          },
          "metadata": {}
        }
      ]
    },
    {
      "cell_type": "code",
      "source": [
        "print('Cluster 1 :', list(FIFA_Irregular[FIFA_Irregular.Cluster_ID == 0].index))"
      ],
      "metadata": {
        "colab": {
          "base_uri": "https://localhost:8080/"
        },
        "id": "38t5-xlmCE5E",
        "outputId": "12b56d75-8d01-4ba3-e9b8-9c6e6c904c3d"
      },
      "execution_count": 150,
      "outputs": [
        {
          "output_type": "stream",
          "name": "stdout",
          "text": [
            "Cluster 1 : ['Algeria', 'Angola', 'Australia', 'Bolivia', 'Bosnia and Herzegovina', 'Bulgaria', 'Cameroon', 'Costa Rica', 'Czech Republic', 'Dutch East Indies', 'Ecuador', 'Egypt', 'El Salvador', 'Greece', 'Haiti', 'Iran', 'Iraq', 'Ivory Coast', 'Jamaica', 'Japan', 'Kuwait', 'Morocco', 'New Zealand', 'Nigeria', 'North Korea', 'Norway', 'Russia', 'Scotland', 'Serbia', 'Slovakia', 'Slovenia', 'South Africa', 'South Korea', 'Tunisia', 'United States', 'Zaire']\n"
          ]
        }
      ]
    },
    {
      "cell_type": "code",
      "source": [
        "print('Cluster 2 :', list(FIFA_Irregular[FIFA_Irregular.Cluster_ID == 1].index))"
      ],
      "metadata": {
        "colab": {
          "base_uri": "https://localhost:8080/"
        },
        "id": "FU9u4uiJCF8A",
        "outputId": "e3ac1b7f-ca5f-4701-a3ae-e2465dcb6458"
      },
      "execution_count": 151,
      "outputs": [
        {
          "output_type": "stream",
          "name": "stdout",
          "text": [
            "Cluster 2 : ['Austria', 'Bulgaria**', 'Chile', 'Colombia', 'Croatia', 'Cuba', 'Czechoslovakia', 'Denmark', 'FR Yugoslavia', 'Ghana', 'Hungary', 'Israel*', 'Netherlands', 'Northern Ireland', 'Paraguay', 'Peru', 'Poland', 'Portugal', 'Republic of Ireland', 'Romania', 'Senegal', 'Soviet Union', 'Sweden', 'Switzerland', 'Turkey', 'Ukraine', 'Wales', 'Yugoslavia']\n"
          ]
        }
      ]
    },
    {
      "cell_type": "code",
      "source": [
        "print('Cluster 3 :', list(FIFA_Irregular[FIFA_Irregular.Cluster_ID == 2].index))"
      ],
      "metadata": {
        "colab": {
          "base_uri": "https://localhost:8080/"
        },
        "id": "U_Tf_h4uFmj7",
        "outputId": "99f9e3a4-3355-4b9e-faad-10c26a1220af"
      },
      "execution_count": 152,
      "outputs": [
        {
          "output_type": "stream",
          "name": "stdout",
          "text": [
            "Cluster 3 : ['Canada', 'China PR', 'Honduras', 'Iceland', 'Panama', 'Saudi Arabia', 'Serbia and Montenegro', 'Togo', 'Trinidad and Tobago', 'United Arab Emirates']\n"
          ]
        }
      ]
    },
    {
      "cell_type": "code",
      "source": [
        "FIFA.info()"
      ],
      "metadata": {
        "colab": {
          "base_uri": "https://localhost:8080/"
        },
        "id": "CvsZ87SXFqMQ",
        "outputId": "db5e78ae-46a0-45dd-da27-427648c284fd"
      },
      "execution_count": 154,
      "outputs": [
        {
          "output_type": "stream",
          "name": "stdout",
          "text": [
            "<class 'pandas.core.frame.DataFrame'>\n",
            "Index: 84 entries, Algeria to Zaire\n",
            "Data columns (total 10 columns):\n",
            " #   Column           Non-Null Count  Dtype  \n",
            "---  ------           --------------  -----  \n",
            " 0   Position         84 non-null     float64\n",
            " 1   Games Played     84 non-null     float64\n",
            " 2   Win              84 non-null     float64\n",
            " 3   Draw             84 non-null     float64\n",
            " 4   Loss             84 non-null     float64\n",
            " 5   Goals For        84 non-null     float64\n",
            " 6   Goals Against    84 non-null     float64\n",
            " 7   Goal Difference  84 non-null     float64\n",
            " 8   Points           84 non-null     float64\n",
            " 9   Count            84 non-null     int64  \n",
            "dtypes: float64(9), int64(1)\n",
            "memory usage: 7.2+ KB\n"
          ]
        }
      ]
    },
    {
      "cell_type": "code",
      "source": [
        "scaler = StandardScaler()\n",
        "FIFA_clust = FIFA.drop('Count',axis=1)\n",
        "col = FIFA_clust.columns\n",
        "FIFA_clust = scaler.fit_transform(FIFA_clust)\n",
        "FIFA_clust = pd.DataFrame(FIFA_clust,columns=col)\n",
        "print(FIFA_clust.head())\n",
        "print(FIFA_clust.info())"
      ],
      "metadata": {
        "colab": {
          "base_uri": "https://localhost:8080/"
        },
        "id": "lgHgqva9FwXj",
        "outputId": "e194f231-1ebc-4c67-f49c-df97c37d0a01"
      },
      "execution_count": 155,
      "outputs": [
        {
          "output_type": "stream",
          "name": "stdout",
          "text": [
            "   Position  Games Played       Win      Draw      Loss  Goals For  \\\n",
            "0  0.454876     -0.382458 -0.284338 -0.065449 -0.022035  -0.292350   \n",
            "1  1.006089     -0.710364 -1.165210  2.162215 -1.316020  -1.170511   \n",
            "2 -1.302520      1.604269  1.805574  0.170421 -0.707086   1.584505   \n",
            "3  0.800303     -0.448039 -0.695412  0.023657  0.409294  -0.546041   \n",
            "4 -0.736793      0.788636  0.848211 -0.383687  0.162820   0.836715   \n",
            "\n",
            "   Goals Against  Goal Difference    Points  \n",
            "0      -0.552961        -0.008872 -0.362954  \n",
            "1      -1.747173         0.158824 -0.578399  \n",
            "2      -0.240039         1.362287  1.601396  \n",
            "3       0.076715        -0.713193 -0.578399  \n",
            "4       0.300048         0.302563  0.283381  \n",
            "<class 'pandas.core.frame.DataFrame'>\n",
            "RangeIndex: 84 entries, 0 to 83\n",
            "Data columns (total 9 columns):\n",
            " #   Column           Non-Null Count  Dtype  \n",
            "---  ------           --------------  -----  \n",
            " 0   Position         84 non-null     float64\n",
            " 1   Games Played     84 non-null     float64\n",
            " 2   Win              84 non-null     float64\n",
            " 3   Draw             84 non-null     float64\n",
            " 4   Loss             84 non-null     float64\n",
            " 5   Goals For        84 non-null     float64\n",
            " 6   Goals Against    84 non-null     float64\n",
            " 7   Goal Difference  84 non-null     float64\n",
            " 8   Points           84 non-null     float64\n",
            "dtypes: float64(9)\n",
            "memory usage: 6.0 KB\n",
            "None\n"
          ]
        }
      ]
    },
    {
      "cell_type": "code",
      "source": [
        "ssd = []\n",
        "range_n_clusters = [2, 3, 4, 5, 6, 7, 8]\n",
        "for num_clusters in range_n_clusters:\n",
        "    kmeans = KMeans(n_clusters=num_clusters, max_iter=50)\n",
        "    kmeans.fit(FIFA_clust)\n",
        "    \n",
        "    ssd.append(kmeans.inertia_)\n",
        "    \n",
        "plt.plot(ssd)\n",
        "plt.show()"
      ],
      "metadata": {
        "colab": {
          "base_uri": "https://localhost:8080/",
          "height": 268
        },
        "id": "p873xq3MFzhB",
        "outputId": "5bf7a2fa-976a-4367-ff2a-5348f5c4d658"
      },
      "execution_count": 156,
      "outputs": [
        {
          "output_type": "display_data",
          "data": {
            "text/plain": [
              "<Figure size 432x288 with 1 Axes>"
            ],
            "image/png": "[encoded data removed]"
          },
          "metadata": {}
        }
      ]
    },
    {
      "cell_type": "code",
      "source": [
        "range_n_clusters = [2, 3, 4, 5, 6, 7, 8]\n",
        "\n",
        "for num_clusters in range_n_clusters:\n",
        "    \n",
        "    kmeans = KMeans(n_clusters=num_clusters, max_iter=50)\n",
        "    kmeans.fit(FIFA_clust)\n",
        "    \n",
        "    cluster_labels = kmeans.labels_\n",
        "    \n",
        "    silhouette_avg = silhouette_score(FIFA_clust, cluster_labels)\n",
        "    print(\"For n_clusters={0}, the silhouette score is {1}\".format(num_clusters, silhouette_avg))"
      ],
      "metadata": {
        "colab": {
          "base_uri": "https://localhost:8080/"
        },
        "id": "FnAJzVDMF2KB",
        "outputId": "9add8465-4b14-4d12-d7ef-b06c142e1e1b"
      },
      "execution_count": 157,
      "outputs": [
        {
          "output_type": "stream",
          "name": "stdout",
          "text": [
            "For n_clusters=2, the silhouette score is 0.35385878552589095\n",
            "For n_clusters=3, the silhouette score is 0.3349136838995158\n",
            "For n_clusters=4, the silhouette score is 0.24782308282696214\n",
            "For n_clusters=5, the silhouette score is 0.25847062367058016\n",
            "For n_clusters=6, the silhouette score is 0.26501222594479074\n",
            "For n_clusters=7, the silhouette score is 0.23274023518217404\n",
            "For n_clusters=8, the silhouette score is 0.21021613047687776\n"
          ]
        }
      ]
    },
    {
      "cell_type": "code",
      "source": [
        "kmeans = KMeans(n_clusters=4,max_iter=100)\n",
        "kmeans.fit(FIFA_clust)"
      ],
      "metadata": {
        "colab": {
          "base_uri": "https://localhost:8080/"
        },
        "id": "Q_9_Sk0eF5iR",
        "outputId": "166e7f6e-e2a0-44de-b3aa-49434299785c"
      },
      "execution_count": 158,
      "outputs": [
        {
          "output_type": "execute_result",
          "data": {
            "text/plain": [
              "KMeans(max_iter=100, n_clusters=4)"
            ]
          },
          "metadata": {},
          "execution_count": 158
        }
      ]
    },
    {
      "cell_type": "code",
      "source": [
        "FIFA['Cluster_ID'] = kmeans.labels_"
      ],
      "metadata": {
        "id": "z1yGcE72F8Ti"
      },
      "execution_count": 159,
      "outputs": []
    },
    {
      "cell_type": "code",
      "source": [
        "plt.figure(figsize=(15,5))\n",
        "sns.barplot(x='Cluster_ID',y='Games Played',palette='deep',data=FIFA)\n",
        "plt.title('Cluster vs Games Played')\n",
        "plt.xlabel('Cluster')\n",
        "plt.ylabel('Games Played')\n",
        "plt.show()"
      ],
      "metadata": {
        "colab": {
          "base_uri": "https://localhost:8080/",
          "height": 355
        },
        "id": "ag5zNkJhF-3x",
        "outputId": "f701927c-3f8b-4ed6-e883-d804a92aaed8"
      },
      "execution_count": 160,
      "outputs": [
        {
          "output_type": "display_data",
          "data": {
            "text/plain": [
              "<Figure size 1080x360 with 1 Axes>"
            ],
            "image/png": "[encoded data removed]"
          },
          "metadata": {}
        }
      ]
    },
    {
      "cell_type": "code",
      "source": [
        "plt.figure(figsize=(15,5))\n",
        "sns.barplot(x='Cluster_ID',y='Win',palette='deep',data=FIFA)\n",
        "plt.title('Cluster vs Win')\n",
        "plt.xlabel('Cluster')\n",
        "plt.ylabel('Win')\n",
        "plt.show()"
      ],
      "metadata": {
        "colab": {
          "base_uri": "https://localhost:8080/",
          "height": 355
        },
        "id": "poVRA1c9GAvo",
        "outputId": "ac9c365e-c7b0-4ee5-df13-d7710a7528c3"
      },
      "execution_count": 161,
      "outputs": [
        {
          "output_type": "display_data",
          "data": {
            "text/plain": [
              "<Figure size 1080x360 with 1 Axes>"
            ],
            "image/png": "[encoded data removed]"
          },
          "metadata": {}
        }
      ]
    },
    {
      "cell_type": "code",
      "source": [
        "plt.figure(figsize=(15,5))\n",
        "sns.barplot(x='Cluster_ID',y='Position',palette='deep',data=FIFA)\n",
        "plt.title('Cluster vs Win')\n",
        "plt.xlabel('Cluster')\n",
        "plt.ylabel('Win')\n",
        "plt.show()"
      ],
      "metadata": {
        "colab": {
          "base_uri": "https://localhost:8080/",
          "height": 355
        },
        "id": "PGHXporgFvVQ",
        "outputId": "e00a6fd4-55cb-4970-d2f8-d7bc621ca18b"
      },
      "execution_count": 162,
      "outputs": [
        {
          "output_type": "display_data",
          "data": {
            "text/plain": [
              "<Figure size 1080x360 with 1 Axes>"
            ],
            "image/png": "[encoded data removed]"
          },
          "metadata": {}
        }
      ]
    },
    {
      "cell_type": "code",
      "source": [
        "print('Cluster 1 :', list(FIFA[FIFA.Cluster_ID == 0].index))"
      ],
      "metadata": {
        "colab": {
          "base_uri": "https://localhost:8080/"
        },
        "id": "4ugXeFV9GKN0",
        "outputId": "279bdb3f-c320-4306-f7df-78155db96322"
      },
      "execution_count": 163,
      "outputs": [
        {
          "output_type": "stream",
          "name": "stdout",
          "text": [
            "Cluster 1 : ['Algeria', 'Angola', 'Australia', 'Bolivia', 'Bosnia and Herzegovina', 'Bulgaria', 'Bulgaria**', 'Cameroon', 'Costa Rica', 'Czech Republic', 'Dutch East Indies', 'Ecuador', 'Egypt', 'Greece', 'Honduras', 'Iceland', 'Iran', 'Israel*', 'Ivory Coast', 'Japan', 'Kuwait', 'Morocco', 'New Zealand', 'Nigeria', 'Norway', 'Saudi Arabia', 'Scotland', 'Serbia', 'Slovenia', 'South Africa', 'South Korea', 'Trinidad and Tobago', 'Tunisia', 'United States']\n"
          ]
        }
      ]
    },
    {
      "cell_type": "code",
      "source": [
        "print('Cluster 2 :', list(FIFA[FIFA.Cluster_ID == 1].index))"
      ],
      "metadata": {
        "colab": {
          "base_uri": "https://localhost:8080/"
        },
        "id": "ENjTZO8BGS_a",
        "outputId": "900cf334-7512-4437-83d5-6ec2cac9588d"
      },
      "execution_count": 164,
      "outputs": [
        {
          "output_type": "stream",
          "name": "stdout",
          "text": [
            "Cluster 2 : ['Argentina', 'Brazil', 'Croatia', 'England', 'FR Yugoslavia', 'France', 'Germany', 'Hungary', 'Italy', 'Netherlands', 'Portugal', 'Soviet Union', 'Spain', 'Turkey', 'Ukraine', 'Uruguay', 'Yugoslavia']\n"
          ]
        }
      ]
    },
    {
      "cell_type": "code",
      "source": [
        "print('Cluster 3 :', list(FIFA[FIFA.Cluster_ID == 2].index))"
      ],
      "metadata": {
        "colab": {
          "base_uri": "https://localhost:8080/"
        },
        "id": "nM9_wPxjGVuL",
        "outputId": "a7b157cd-2c72-4ff6-ae3d-49cdcf27f7fb"
      },
      "execution_count": 165,
      "outputs": [
        {
          "output_type": "stream",
          "name": "stdout",
          "text": [
            "Cluster 3 : ['Austria', 'Belgium', 'Chile', 'Colombia', 'Cuba', 'Czechoslovakia', 'Denmark', 'Ghana', 'Mexico', 'Northern Ireland', 'Paraguay', 'Peru', 'Poland', 'Republic of Ireland', 'Romania', 'Russia', 'Senegal', 'Slovakia', 'Sweden', 'Switzerland', 'Wales']\n"
          ]
        }
      ]
    },
    {
      "cell_type": "code",
      "source": [
        "print('Cluster 4 :', list(FIFA[FIFA.Cluster_ID == 3].index))"
      ],
      "metadata": {
        "colab": {
          "base_uri": "https://localhost:8080/"
        },
        "id": "CeccpNpUGYf7",
        "outputId": "5bb6102e-dcc0-408b-bc3e-1babf936a14c"
      },
      "execution_count": 166,
      "outputs": [
        {
          "output_type": "stream",
          "name": "stdout",
          "text": [
            "Cluster 4 : ['Canada', 'China PR', 'El Salvador', 'Haiti', 'Iraq', 'Jamaica', 'North Korea', 'Panama', 'Serbia and Montenegro', 'Togo', 'United Arab Emirates', 'Zaire']\n"
          ]
        }
      ]
    },
    {
      "cell_type": "code",
      "source": [
        "FIFA_summary.head()"
      ],
      "metadata": {
        "colab": {
          "base_uri": "https://localhost:8080/",
          "height": 206
        },
        "id": "2cuMLH0KGayC",
        "outputId": "95e9fbec-e0cf-44a1-9a20-6104a54c6bfd"
      },
      "execution_count": 167,
      "outputs": [
        {
          "output_type": "execute_result",
          "data": {
            "text/plain": [
              "   YEAR         HOST      CHAMPION       RUNNER UP    THIRD PLACE  TEAMS  \\\n",
              "0  1930      Uruguay       Uruguay       Argentina  United States     13   \n",
              "1  1934        Italy         Italy  Czechoslovakia        Germany     16   \n",
              "2  1938       France         Italy         Hungary         Brazil     15   \n",
              "3  1950       Brazil       Uruguay          Brazil         Sweden     13   \n",
              "4  1954  Switzerland  West Germany         Hungary        Austria     16   \n",
              "\n",
              "   MATCHES PLAYED  GOALS SCORED  AVG GOALS PER GAME  \n",
              "0              16            70                 3.6  \n",
              "1              17            70                 4.1  \n",
              "2              18            84                 4.7  \n",
              "3              22            88                 4.0  \n",
              "4              26           140                 5.4  "
            ],
            "text/html": [
              "\n",
              "  <div id=\"df-8de11cf2-d498-4277-8665-23bc4b7a6179\">\n",
              "    <div class=\"colab-df-container\">\n",
              "      <div>\n",
              "<style scoped>\n",
              "    .dataframe tbody tr th:only-of-type {\n",
              "        vertical-align: middle;\n",
              "    }\n",
              "\n",
              "    .dataframe tbody tr th {\n",
              "        vertical-align: top;\n",
              "    }\n",
              "\n",
              "    .dataframe thead th {\n",
              "        text-align: right;\n",
              "    }\n",
              "</style>\n",
              "<table border=\"1\" class=\"dataframe\">\n",
              "  <thead>\n",
              "    <tr style=\"text-align: right;\">\n",
              "      <th></th>\n",
              "      <th>YEAR</th>\n",
              "      <th>HOST</th>\n",
              "      <th>CHAMPION</th>\n",
              "      <th>RUNNER UP</th>\n",
              "      <th>THIRD PLACE</th>\n",
              "      <th>TEAMS</th>\n",
              "      <th>MATCHES PLAYED</th>\n",
              "      <th>GOALS SCORED</th>\n",
              "      <th>AVG GOALS PER GAME</th>\n",
              "    </tr>\n",
              "  </thead>\n",
              "  <tbody>\n",
              "    <tr>\n",
              "      <th>0</th>\n",
              "      <td>1930</td>\n",
              "      <td>Uruguay</td>\n",
              "      <td>Uruguay</td>\n",
              "      <td>Argentina</td>\n",
              "      <td>United States</td>\n",
              "      <td>13</td>\n",
              "      <td>16</td>\n",
              "      <td>70</td>\n",
              "      <td>3.6</td>\n",
              "    </tr>\n",
              "    <tr>\n",
              "      <th>1</th>\n",
              "      <td>1934</td>\n",
              "      <td>Italy</td>\n",
              "      <td>Italy</td>\n",
              "      <td>Czechoslovakia</td>\n",
              "      <td>Germany</td>\n",
              "      <td>16</td>\n",
              "      <td>17</td>\n",
              "      <td>70</td>\n",
              "      <td>4.1</td>\n",
              "    </tr>\n",
              "    <tr>\n",
              "      <th>2</th>\n",
              "      <td>1938</td>\n",
              "      <td>France</td>\n",
              "      <td>Italy</td>\n",
              "      <td>Hungary</td>\n",
              "      <td>Brazil</td>\n",
              "      <td>15</td>\n",
              "      <td>18</td>\n",
              "      <td>84</td>\n",
              "      <td>4.7</td>\n",
              "    </tr>\n",
              "    <tr>\n",
              "      <th>3</th>\n",
              "      <td>1950</td>\n",
              "      <td>Brazil</td>\n",
              "      <td>Uruguay</td>\n",
              "      <td>Brazil</td>\n",
              "      <td>Sweden</td>\n",
              "      <td>13</td>\n",
              "      <td>22</td>\n",
              "      <td>88</td>\n",
              "      <td>4.0</td>\n",
              "    </tr>\n",
              "    <tr>\n",
              "      <th>4</th>\n",
              "      <td>1954</td>\n",
              "      <td>Switzerland</td>\n",
              "      <td>West Germany</td>\n",
              "      <td>Hungary</td>\n",
              "      <td>Austria</td>\n",
              "      <td>16</td>\n",
              "      <td>26</td>\n",
              "      <td>140</td>\n",
              "      <td>5.4</td>\n",
              "    </tr>\n",
              "  </tbody>\n",
              "</table>\n",
              "</div>\n",
              "      <button class=\"colab-df-convert\" onclick=\"convertToInteractive('df-8de11cf2-d498-4277-8665-23bc4b7a6179')\"\n",
              "              title=\"Convert this dataframe to an interactive table.\"\n",
              "              style=\"display:none;\">\n",
              "        \n",
              "  <svg xmlns=\"http://www.w3.org/2000/svg\" height=\"24px\"viewBox=\"0 0 24 24\"\n",
              "       width=\"24px\">\n",
              "    <path d=\"M0 0h24v24H0V0z\" fill=\"none\"/>\n",
              "    <path d=\"M18.56 5.44l.94 2.06.94-2.06 2.06-.94-2.06-.94-.94-2.06-.94 2.06-2.06.94zm-11 1L8.5 8.5l.94-2.06 2.06-.94-2.06-.94L8.5 2.5l-.94 2.06-2.06.94zm10 10l.94 2.06.94-2.06 2.06-.94-2.06-.94-.94-2.06-.94 2.06-2.06.94z\"/><path d=\"M17.41 7.96l-1.37-1.37c-.4-.4-.92-.59-1.43-.59-.52 0-1.04.2-1.43.59L10.3 9.45l-7.72 7.72c-.78.78-.78 2.05 0 2.83L4 21.41c.39.39.9.59 1.41.59.51 0 1.02-.2 1.41-.59l7.78-7.78 2.81-2.81c.8-.78.8-2.07 0-2.86zM5.41 20L4 18.59l7.72-7.72 1.47 1.35L5.41 20z\"/>\n",
              "  </svg>\n",
              "      </button>\n",
              "      \n",
              "  <style>\n",
              "    .colab-df-container {\n",
              "      display:flex;\n",
              "      flex-wrap:wrap;\n",
              "      gap: 12px;\n",
              "    }\n",
              "\n",
              "    .colab-df-convert {\n",
              "      background-color: #E8F0FE;\n",
              "      border: none;\n",
              "      border-radius: 50%;\n",
              "      cursor: pointer;\n",
              "      display: none;\n",
              "      fill: #1967D2;\n",
              "      height: 32px;\n",
              "      padding: 0 0 0 0;\n",
              "      width: 32px;\n",
              "    }\n",
              "\n",
              "    .colab-df-convert:hover {\n",
              "      background-color: #E2EBFA;\n",
              "      box-shadow: 0px 1px 2px rgba(60, 64, 67, 0.3), 0px 1px 3px 1px rgba(60, 64, 67, 0.15);\n",
              "      fill: #174EA6;\n",
              "    }\n",
              "\n",
              "    [theme=dark] .colab-df-convert {\n",
              "      background-color: #3B4455;\n",
              "      fill: #D2E3FC;\n",
              "    }\n",
              "\n",
              "    [theme=dark] .colab-df-convert:hover {\n",
              "      background-color: #434B5C;\n",
              "      box-shadow: 0px 1px 3px 1px rgba(0, 0, 0, 0.15);\n",
              "      filter: drop-shadow(0px 1px 2px rgba(0, 0, 0, 0.3));\n",
              "      fill: #FFFFFF;\n",
              "    }\n",
              "  </style>\n",
              "\n",
              "      <script>\n",
              "        const buttonEl =\n",
              "          document.querySelector('#df-8de11cf2-d498-4277-8665-23bc4b7a6179 button.colab-df-convert');\n",
              "        buttonEl.style.display =\n",
              "          google.colab.kernel.accessAllowed ? 'block' : 'none';\n",
              "\n",
              "        async function convertToInteractive(key) {\n",
              "          const element = document.querySelector('#df-8de11cf2-d498-4277-8665-23bc4b7a6179');\n",
              "          const dataTable =\n",
              "            await google.colab.kernel.invokeFunction('convertToInteractive',\n",
              "                                                     [key], {});\n",
              "          if (!dataTable) return;\n",
              "\n",
              "          const docLinkHtml = 'Like what you see? Visit the ' +\n",
              "            '<a target=\"_blank\" href=https://colab.research.google.com/notebooks/data_table.ipynb>data table notebook</a>'\n",
              "            + ' to learn more about interactive tables.';\n",
              "          element.innerHTML = '';\n",
              "          dataTable['output_type'] = 'display_data';\n",
              "          await google.colab.output.renderOutput(dataTable, element);\n",
              "          const docLink = document.createElement('div');\n",
              "          docLink.innerHTML = docLinkHtml;\n",
              "          element.appendChild(docLink);\n",
              "        }\n",
              "      </script>\n",
              "    </div>\n",
              "  </div>\n",
              "  "
            ]
          },
          "metadata": {},
          "execution_count": 167
        }
      ]
    },
    {
      "cell_type": "code",
      "source": [
        "FIFA_summary.info()"
      ],
      "metadata": {
        "colab": {
          "base_uri": "https://localhost:8080/"
        },
        "id": "TxFBwot5Gb-b",
        "outputId": "112fd7ae-c286-4214-86fe-8d3d533e9c67"
      },
      "execution_count": 168,
      "outputs": [
        {
          "output_type": "stream",
          "name": "stdout",
          "text": [
            "<class 'pandas.core.frame.DataFrame'>\n",
            "RangeIndex: 22 entries, 0 to 21\n",
            "Data columns (total 9 columns):\n",
            " #   Column              Non-Null Count  Dtype  \n",
            "---  ------              --------------  -----  \n",
            " 0   YEAR                22 non-null     int64  \n",
            " 1   HOST                22 non-null     object \n",
            " 2   CHAMPION            22 non-null     object \n",
            " 3   RUNNER UP           22 non-null     object \n",
            " 4   THIRD PLACE         22 non-null     object \n",
            " 5   TEAMS               22 non-null     int64  \n",
            " 6   MATCHES PLAYED      22 non-null     int64  \n",
            " 7   GOALS SCORED        22 non-null     int64  \n",
            " 8   AVG GOALS PER GAME  22 non-null     float64\n",
            "dtypes: float64(1), int64(4), object(4)\n",
            "memory usage: 1.7+ KB\n"
          ]
        }
      ]
    },
    {
      "cell_type": "code",
      "source": [
        "FIFA_summary.temp = FIFA_summary.HOST+'_'+FIFA_summary.CHAMPION\n",
        "FIFA_summary['Target'] = FIFA_summary.temp.apply(lambda x: 1 if x.split('_')[0] == x.split('_')[1] else 0)\n",
        "FIFA_summary.head()"
      ],
      "metadata": {
        "colab": {
          "base_uri": "https://localhost:8080/",
          "height": 206
        },
        "id": "n70AeKdzGf9q",
        "outputId": "f376a200-9166-4b59-b631-ddc70058d7f0"
      },
      "execution_count": 169,
      "outputs": [
        {
          "output_type": "execute_result",
          "data": {
            "text/plain": [
              "   YEAR         HOST      CHAMPION       RUNNER UP    THIRD PLACE  TEAMS  \\\n",
              "0  1930      Uruguay       Uruguay       Argentina  United States     13   \n",
              "1  1934        Italy         Italy  Czechoslovakia        Germany     16   \n",
              "2  1938       France         Italy         Hungary         Brazil     15   \n",
              "3  1950       Brazil       Uruguay          Brazil         Sweden     13   \n",
              "4  1954  Switzerland  West Germany         Hungary        Austria     16   \n",
              "\n",
              "   MATCHES PLAYED  GOALS SCORED  AVG GOALS PER GAME  Target  \n",
              "0              16            70                 3.6       1  \n",
              "1              17            70                 4.1       1  \n",
              "2              18            84                 4.7       0  \n",
              "3              22            88                 4.0       0  \n",
              "4              26           140                 5.4       0  "
            ],
            "text/html": [
              "\n",
              "  <div id=\"df-0aca3bce-b3c2-4f01-8f61-fffdeaba9951\">\n",
              "    <div class=\"colab-df-container\">\n",
              "      <div>\n",
              "<style scoped>\n",
              "    .dataframe tbody tr th:only-of-type {\n",
              "        vertical-align: middle;\n",
              "    }\n",
              "\n",
              "    .dataframe tbody tr th {\n",
              "        vertical-align: top;\n",
              "    }\n",
              "\n",
              "    .dataframe thead th {\n",
              "        text-align: right;\n",
              "    }\n",
              "</style>\n",
              "<table border=\"1\" class=\"dataframe\">\n",
              "  <thead>\n",
              "    <tr style=\"text-align: right;\">\n",
              "      <th></th>\n",
              "      <th>YEAR</th>\n",
              "      <th>HOST</th>\n",
              "      <th>CHAMPION</th>\n",
              "      <th>RUNNER UP</th>\n",
              "      <th>THIRD PLACE</th>\n",
              "      <th>TEAMS</th>\n",
              "      <th>MATCHES PLAYED</th>\n",
              "      <th>GOALS SCORED</th>\n",
              "      <th>AVG GOALS PER GAME</th>\n",
              "      <th>Target</th>\n",
              "    </tr>\n",
              "  </thead>\n",
              "  <tbody>\n",
              "    <tr>\n",
              "      <th>0</th>\n",
              "      <td>1930</td>\n",
              "      <td>Uruguay</td>\n",
              "      <td>Uruguay</td>\n",
              "      <td>Argentina</td>\n",
              "      <td>United States</td>\n",
              "      <td>13</td>\n",
              "      <td>16</td>\n",
              "      <td>70</td>\n",
              "      <td>3.6</td>\n",
              "      <td>1</td>\n",
              "    </tr>\n",
              "    <tr>\n",
              "      <th>1</th>\n",
              "      <td>1934</td>\n",
              "      <td>Italy</td>\n",
              "      <td>Italy</td>\n",
              "      <td>Czechoslovakia</td>\n",
              "      <td>Germany</td>\n",
              "      <td>16</td>\n",
              "      <td>17</td>\n",
              "      <td>70</td>\n",
              "      <td>4.1</td>\n",
              "      <td>1</td>\n",
              "    </tr>\n",
              "    <tr>\n",
              "      <th>2</th>\n",
              "      <td>1938</td>\n",
              "      <td>France</td>\n",
              "      <td>Italy</td>\n",
              "      <td>Hungary</td>\n",
              "      <td>Brazil</td>\n",
              "      <td>15</td>\n",
              "      <td>18</td>\n",
              "      <td>84</td>\n",
              "      <td>4.7</td>\n",
              "      <td>0</td>\n",
              "    </tr>\n",
              "    <tr>\n",
              "      <th>3</th>\n",
              "      <td>1950</td>\n",
              "      <td>Brazil</td>\n",
              "      <td>Uruguay</td>\n",
              "      <td>Brazil</td>\n",
              "      <td>Sweden</td>\n",
              "      <td>13</td>\n",
              "      <td>22</td>\n",
              "      <td>88</td>\n",
              "      <td>4.0</td>\n",
              "      <td>0</td>\n",
              "    </tr>\n",
              "    <tr>\n",
              "      <th>4</th>\n",
              "      <td>1954</td>\n",
              "      <td>Switzerland</td>\n",
              "      <td>West Germany</td>\n",
              "      <td>Hungary</td>\n",
              "      <td>Austria</td>\n",
              "      <td>16</td>\n",
              "      <td>26</td>\n",
              "      <td>140</td>\n",
              "      <td>5.4</td>\n",
              "      <td>0</td>\n",
              "    </tr>\n",
              "  </tbody>\n",
              "</table>\n",
              "</div>\n",
              "      <button class=\"colab-df-convert\" onclick=\"convertToInteractive('df-0aca3bce-b3c2-4f01-8f61-fffdeaba9951')\"\n",
              "              title=\"Convert this dataframe to an interactive table.\"\n",
              "              style=\"display:none;\">\n",
              "        \n",
              "  <svg xmlns=\"http://www.w3.org/2000/svg\" height=\"24px\"viewBox=\"0 0 24 24\"\n",
              "       width=\"24px\">\n",
              "    <path d=\"M0 0h24v24H0V0z\" fill=\"none\"/>\n",
              "    <path d=\"M18.56 5.44l.94 2.06.94-2.06 2.06-.94-2.06-.94-.94-2.06-.94 2.06-2.06.94zm-11 1L8.5 8.5l.94-2.06 2.06-.94-2.06-.94L8.5 2.5l-.94 2.06-2.06.94zm10 10l.94 2.06.94-2.06 2.06-.94-2.06-.94-.94-2.06-.94 2.06-2.06.94z\"/><path d=\"M17.41 7.96l-1.37-1.37c-.4-.4-.92-.59-1.43-.59-.52 0-1.04.2-1.43.59L10.3 9.45l-7.72 7.72c-.78.78-.78 2.05 0 2.83L4 21.41c.39.39.9.59 1.41.59.51 0 1.02-.2 1.41-.59l7.78-7.78 2.81-2.81c.8-.78.8-2.07 0-2.86zM5.41 20L4 18.59l7.72-7.72 1.47 1.35L5.41 20z\"/>\n",
              "  </svg>\n",
              "      </button>\n",
              "      \n",
              "  <style>\n",
              "    .colab-df-container {\n",
              "      display:flex;\n",
              "      flex-wrap:wrap;\n",
              "      gap: 12px;\n",
              "    }\n",
              "\n",
              "    .colab-df-convert {\n",
              "      background-color: #E8F0FE;\n",
              "      border: none;\n",
              "      border-radius: 50%;\n",
              "      cursor: pointer;\n",
              "      display: none;\n",
              "      fill: #1967D2;\n",
              "      height: 32px;\n",
              "      padding: 0 0 0 0;\n",
              "      width: 32px;\n",
              "    }\n",
              "\n",
              "    .colab-df-convert:hover {\n",
              "      background-color: #E2EBFA;\n",
              "      box-shadow: 0px 1px 2px rgba(60, 64, 67, 0.3), 0px 1px 3px 1px rgba(60, 64, 67, 0.15);\n",
              "      fill: #174EA6;\n",
              "    }\n",
              "\n",
              "    [theme=dark] .colab-df-convert {\n",
              "      background-color: #3B4455;\n",
              "      fill: #D2E3FC;\n",
              "    }\n",
              "\n",
              "    [theme=dark] .colab-df-convert:hover {\n",
              "      background-color: #434B5C;\n",
              "      box-shadow: 0px 1px 3px 1px rgba(0, 0, 0, 0.15);\n",
              "      filter: drop-shadow(0px 1px 2px rgba(0, 0, 0, 0.3));\n",
              "      fill: #FFFFFF;\n",
              "    }\n",
              "  </style>\n",
              "\n",
              "      <script>\n",
              "        const buttonEl =\n",
              "          document.querySelector('#df-0aca3bce-b3c2-4f01-8f61-fffdeaba9951 button.colab-df-convert');\n",
              "        buttonEl.style.display =\n",
              "          google.colab.kernel.accessAllowed ? 'block' : 'none';\n",
              "\n",
              "        async function convertToInteractive(key) {\n",
              "          const element = document.querySelector('#df-0aca3bce-b3c2-4f01-8f61-fffdeaba9951');\n",
              "          const dataTable =\n",
              "            await google.colab.kernel.invokeFunction('convertToInteractive',\n",
              "                                                     [key], {});\n",
              "          if (!dataTable) return;\n",
              "\n",
              "          const docLinkHtml = 'Like what you see? Visit the ' +\n",
              "            '<a target=\"_blank\" href=https://colab.research.google.com/notebooks/data_table.ipynb>data table notebook</a>'\n",
              "            + ' to learn more about interactive tables.';\n",
              "          element.innerHTML = '';\n",
              "          dataTable['output_type'] = 'display_data';\n",
              "          await google.colab.output.renderOutput(dataTable, element);\n",
              "          const docLink = document.createElement('div');\n",
              "          docLink.innerHTML = docLinkHtml;\n",
              "          element.appendChild(docLink);\n",
              "        }\n",
              "      </script>\n",
              "    </div>\n",
              "  </div>\n",
              "  "
            ]
          },
          "metadata": {},
          "execution_count": 169
        }
      ]
    },
    {
      "cell_type": "code",
      "source": [
        "FIFA_summary.info()"
      ],
      "metadata": {
        "colab": {
          "base_uri": "https://localhost:8080/"
        },
        "id": "Sqs-5SItGiZT",
        "outputId": "87c8803c-9429-4cce-d9ab-6d93ce99f4f1"
      },
      "execution_count": 170,
      "outputs": [
        {
          "output_type": "stream",
          "name": "stdout",
          "text": [
            "<class 'pandas.core.frame.DataFrame'>\n",
            "RangeIndex: 22 entries, 0 to 21\n",
            "Data columns (total 10 columns):\n",
            " #   Column              Non-Null Count  Dtype  \n",
            "---  ------              --------------  -----  \n",
            " 0   YEAR                22 non-null     int64  \n",
            " 1   HOST                22 non-null     object \n",
            " 2   CHAMPION            22 non-null     object \n",
            " 3   RUNNER UP           22 non-null     object \n",
            " 4   THIRD PLACE         22 non-null     object \n",
            " 5   TEAMS               22 non-null     int64  \n",
            " 6   MATCHES PLAYED      22 non-null     int64  \n",
            " 7   GOALS SCORED        22 non-null     int64  \n",
            " 8   AVG GOALS PER GAME  22 non-null     float64\n",
            " 9   Target              22 non-null     int64  \n",
            "dtypes: float64(1), int64(5), object(4)\n",
            "memory usage: 1.8+ KB\n"
          ]
        }
      ]
    },
    {
      "cell_type": "code",
      "source": [
        "plt.figure(figsize=(15,10))\n",
        "sns.heatmap(FIFA_summary[['YEAR','TEAMS','MATCHES PLAYED','GOALS SCORED','AVG GOALS PER GAME','Target']].corr(),annot=True)\n",
        "plt.title('Heatmap of Variable Correlations')\n",
        "plt.show()"
      ],
      "metadata": {
        "colab": {
          "base_uri": "https://localhost:8080/",
          "height": 610
        },
        "id": "RNNX0lmhGj2a",
        "outputId": "3fba4f2e-8137-4ed0-f161-4a720f53b10a"
      },
      "execution_count": 171,
      "outputs": [
        {
          "output_type": "display_data",
          "data": {
            "text/plain": [
              "<Figure size 1080x720 with 2 Axes>"
            ],
            "image/png": "[encoded data removed]"
          },
          "metadata": {}
        }
      ]
    },
    {
      "cell_type": "code",
      "source": [
        "FIFA_summary['Target'].value_counts()"
      ],
      "metadata": {
        "colab": {
          "base_uri": "https://localhost:8080/"
        },
        "id": "tqfR7Q7iGm6L",
        "outputId": "806b9964-e0ff-48c6-ac60-283ba6a06434"
      },
      "execution_count": 172,
      "outputs": [
        {
          "output_type": "execute_result",
          "data": {
            "text/plain": [
              "0    16\n",
              "1     6\n",
              "Name: Target, dtype: int64"
            ]
          },
          "metadata": {},
          "execution_count": 172
        }
      ]
    },
    {
      "cell_type": "code",
      "source": [
        "X = FIFA_summary.drop(['HOST','CHAMPION','RUNNER UP','THIRD PLACE','Target'],axis=1)\n",
        "y = FIFA_summary['Target']\n",
        "from sklearn.model_selection import train_test_split\n",
        "X_train, X_test, y_train, y_test = train_test_split(X,y,train_size=0.5,random_state=100)"
      ],
      "metadata": {
        "id": "jxTU3xHgGp0i"
      },
      "execution_count": 173,
      "outputs": []
    },
    {
      "cell_type": "code",
      "source": [
        "X_train.head()"
      ],
      "metadata": {
        "colab": {
          "base_uri": "https://localhost:8080/",
          "height": 206
        },
        "id": "8gi0x0hVGscz",
        "outputId": "edb43d5d-9196-4a65-a28a-4b0bdd117df3"
      },
      "execution_count": 174,
      "outputs": [
        {
          "output_type": "execute_result",
          "data": {
            "text/plain": [
              "    YEAR  TEAMS  MATCHES PLAYED  GOALS SCORED  AVG GOALS PER GAME\n",
              "13  1990     24              52           115                 2.2\n",
              "5   1958     16              35           126                 3.6\n",
              "2   1938     15              18            84                 4.7\n",
              "4   1954     16              26           140                 5.4\n",
              "14  1994     24              52           141                 2.7"
            ],
            "text/html": [
              "\n",
              "  <div id=\"df-eccbc1d4-1a68-4e55-bab2-281fd7260fc9\">\n",
              "    <div class=\"colab-df-container\">\n",
              "      <div>\n",
              "<style scoped>\n",
              "    .dataframe tbody tr th:only-of-type {\n",
              "        vertical-align: middle;\n",
              "    }\n",
              "\n",
              "    .dataframe tbody tr th {\n",
              "        vertical-align: top;\n",
              "    }\n",
              "\n",
              "    .dataframe thead th {\n",
              "        text-align: right;\n",
              "    }\n",
              "</style>\n",
              "<table border=\"1\" class=\"dataframe\">\n",
              "  <thead>\n",
              "    <tr style=\"text-align: right;\">\n",
              "      <th></th>\n",
              "      <th>YEAR</th>\n",
              "      <th>TEAMS</th>\n",
              "      <th>MATCHES PLAYED</th>\n",
              "      <th>GOALS SCORED</th>\n",
              "      <th>AVG GOALS PER GAME</th>\n",
              "    </tr>\n",
              "  </thead>\n",
              "  <tbody>\n",
              "    <tr>\n",
              "      <th>13</th>\n",
              "      <td>1990</td>\n",
              "      <td>24</td>\n",
              "      <td>52</td>\n",
              "      <td>115</td>\n",
              "      <td>2.2</td>\n",
              "    </tr>\n",
              "    <tr>\n",
              "      <th>5</th>\n",
              "      <td>1958</td>\n",
              "      <td>16</td>\n",
              "      <td>35</td>\n",
              "      <td>126</td>\n",
              "      <td>3.6</td>\n",
              "    </tr>\n",
              "    <tr>\n",
              "      <th>2</th>\n",
              "      <td>1938</td>\n",
              "      <td>15</td>\n",
              "      <td>18</td>\n",
              "      <td>84</td>\n",
              "      <td>4.7</td>\n",
              "    </tr>\n",
              "    <tr>\n",
              "      <th>4</th>\n",
              "      <td>1954</td>\n",
              "      <td>16</td>\n",
              "      <td>26</td>\n",
              "      <td>140</td>\n",
              "      <td>5.4</td>\n",
              "    </tr>\n",
              "    <tr>\n",
              "      <th>14</th>\n",
              "      <td>1994</td>\n",
              "      <td>24</td>\n",
              "      <td>52</td>\n",
              "      <td>141</td>\n",
              "      <td>2.7</td>\n",
              "    </tr>\n",
              "  </tbody>\n",
              "</table>\n",
              "</div>\n",
              "      <button class=\"colab-df-convert\" onclick=\"convertToInteractive('df-eccbc1d4-1a68-4e55-bab2-281fd7260fc9')\"\n",
              "              title=\"Convert this dataframe to an interactive table.\"\n",
              "              style=\"display:none;\">\n",
              "        \n",
              "  <svg xmlns=\"http://www.w3.org/2000/svg\" height=\"24px\"viewBox=\"0 0 24 24\"\n",
              "       width=\"24px\">\n",
              "    <path d=\"M0 0h24v24H0V0z\" fill=\"none\"/>\n",
              "    <path d=\"M18.56 5.44l.94 2.06.94-2.06 2.06-.94-2.06-.94-.94-2.06-.94 2.06-2.06.94zm-11 1L8.5 8.5l.94-2.06 2.06-.94-2.06-.94L8.5 2.5l-.94 2.06-2.06.94zm10 10l.94 2.06.94-2.06 2.06-.94-2.06-.94-.94-2.06-.94 2.06-2.06.94z\"/><path d=\"M17.41 7.96l-1.37-1.37c-.4-.4-.92-.59-1.43-.59-.52 0-1.04.2-1.43.59L10.3 9.45l-7.72 7.72c-.78.78-.78 2.05 0 2.83L4 21.41c.39.39.9.59 1.41.59.51 0 1.02-.2 1.41-.59l7.78-7.78 2.81-2.81c.8-.78.8-2.07 0-2.86zM5.41 20L4 18.59l7.72-7.72 1.47 1.35L5.41 20z\"/>\n",
              "  </svg>\n",
              "      </button>\n",
              "      \n",
              "  <style>\n",
              "    .colab-df-container {\n",
              "      display:flex;\n",
              "      flex-wrap:wrap;\n",
              "      gap: 12px;\n",
              "    }\n",
              "\n",
              "    .colab-df-convert {\n",
              "      background-color: #E8F0FE;\n",
              "      border: none;\n",
              "      border-radius: 50%;\n",
              "      cursor: pointer;\n",
              "      display: none;\n",
              "      fill: #1967D2;\n",
              "      height: 32px;\n",
              "      padding: 0 0 0 0;\n",
              "      width: 32px;\n",
              "    }\n",
              "\n",
              "    .colab-df-convert:hover {\n",
              "      background-color: #E2EBFA;\n",
              "      box-shadow: 0px 1px 2px rgba(60, 64, 67, 0.3), 0px 1px 3px 1px rgba(60, 64, 67, 0.15);\n",
              "      fill: #174EA6;\n",
              "    }\n",
              "\n",
              "    [theme=dark] .colab-df-convert {\n",
              "      background-color: #3B4455;\n",
              "      fill: #D2E3FC;\n",
              "    }\n",
              "\n",
              "    [theme=dark] .colab-df-convert:hover {\n",
              "      background-color: #434B5C;\n",
              "      box-shadow: 0px 1px 3px 1px rgba(0, 0, 0, 0.15);\n",
              "      filter: drop-shadow(0px 1px 2px rgba(0, 0, 0, 0.3));\n",
              "      fill: #FFFFFF;\n",
              "    }\n",
              "  </style>\n",
              "\n",
              "      <script>\n",
              "        const buttonEl =\n",
              "          document.querySelector('#df-eccbc1d4-1a68-4e55-bab2-281fd7260fc9 button.colab-df-convert');\n",
              "        buttonEl.style.display =\n",
              "          google.colab.kernel.accessAllowed ? 'block' : 'none';\n",
              "\n",
              "        async function convertToInteractive(key) {\n",
              "          const element = document.querySelector('#df-eccbc1d4-1a68-4e55-bab2-281fd7260fc9');\n",
              "          const dataTable =\n",
              "            await google.colab.kernel.invokeFunction('convertToInteractive',\n",
              "                                                     [key], {});\n",
              "          if (!dataTable) return;\n",
              "\n",
              "          const docLinkHtml = 'Like what you see? Visit the ' +\n",
              "            '<a target=\"_blank\" href=https://colab.research.google.com/notebooks/data_table.ipynb>data table notebook</a>'\n",
              "            + ' to learn more about interactive tables.';\n",
              "          element.innerHTML = '';\n",
              "          dataTable['output_type'] = 'display_data';\n",
              "          await google.colab.output.renderOutput(dataTable, element);\n",
              "          const docLink = document.createElement('div');\n",
              "          docLink.innerHTML = docLinkHtml;\n",
              "          element.appendChild(docLink);\n",
              "        }\n",
              "      </script>\n",
              "    </div>\n",
              "  </div>\n",
              "  "
            ]
          },
          "metadata": {},
          "execution_count": 174
        }
      ]
    },
    {
      "cell_type": "code",
      "source": [
        "X_test.head()"
      ],
      "metadata": {
        "colab": {
          "base_uri": "https://localhost:8080/",
          "height": 206
        },
        "id": "l1yS_oF6Gu6M",
        "outputId": "c5059236-1098-4ddf-dc2c-6e917769b950"
      },
      "execution_count": 175,
      "outputs": [
        {
          "output_type": "execute_result",
          "data": {
            "text/plain": [
              "    YEAR  TEAMS  MATCHES PLAYED  GOALS SCORED  AVG GOALS PER GAME\n",
              "21  2022     32              64           172                 2.7\n",
              "12  1986     24              52           132                 2.5\n",
              "9   1974     16              38            97                 2.6\n",
              "6   1962     16              32            89                 2.8\n",
              "20  2018     32              64           169                 2.6"
            ],
            "text/html": [
              "\n",
              "  <div id=\"df-d24d7310-a75b-45bc-8e38-7d9c7716f6f2\">\n",
              "    <div class=\"colab-df-container\">\n",
              "      <div>\n",
              "<style scoped>\n",
              "    .dataframe tbody tr th:only-of-type {\n",
              "        vertical-align: middle;\n",
              "    }\n",
              "\n",
              "    .dataframe tbody tr th {\n",
              "        vertical-align: top;\n",
              "    }\n",
              "\n",
              "    .dataframe thead th {\n",
              "        text-align: right;\n",
              "    }\n",
              "</style>\n",
              "<table border=\"1\" class=\"dataframe\">\n",
              "  <thead>\n",
              "    <tr style=\"text-align: right;\">\n",
              "      <th></th>\n",
              "      <th>YEAR</th>\n",
              "      <th>TEAMS</th>\n",
              "      <th>MATCHES PLAYED</th>\n",
              "      <th>GOALS SCORED</th>\n",
              "      <th>AVG GOALS PER GAME</th>\n",
              "    </tr>\n",
              "  </thead>\n",
              "  <tbody>\n",
              "    <tr>\n",
              "      <th>21</th>\n",
              "      <td>2022</td>\n",
              "      <td>32</td>\n",
              "      <td>64</td>\n",
              "      <td>172</td>\n",
              "      <td>2.7</td>\n",
              "    </tr>\n",
              "    <tr>\n",
              "      <th>12</th>\n",
              "      <td>1986</td>\n",
              "      <td>24</td>\n",
              "      <td>52</td>\n",
              "      <td>132</td>\n",
              "      <td>2.5</td>\n",
              "    </tr>\n",
              "    <tr>\n",
              "      <th>9</th>\n",
              "      <td>1974</td>\n",
              "      <td>16</td>\n",
              "      <td>38</td>\n",
              "      <td>97</td>\n",
              "      <td>2.6</td>\n",
              "    </tr>\n",
              "    <tr>\n",
              "      <th>6</th>\n",
              "      <td>1962</td>\n",
              "      <td>16</td>\n",
              "      <td>32</td>\n",
              "      <td>89</td>\n",
              "      <td>2.8</td>\n",
              "    </tr>\n",
              "    <tr>\n",
              "      <th>20</th>\n",
              "      <td>2018</td>\n",
              "      <td>32</td>\n",
              "      <td>64</td>\n",
              "      <td>169</td>\n",
              "      <td>2.6</td>\n",
              "    </tr>\n",
              "  </tbody>\n",
              "</table>\n",
              "</div>\n",
              "      <button class=\"colab-df-convert\" onclick=\"convertToInteractive('df-d24d7310-a75b-45bc-8e38-7d9c7716f6f2')\"\n",
              "              title=\"Convert this dataframe to an interactive table.\"\n",
              "              style=\"display:none;\">\n",
              "        \n",
              "  <svg xmlns=\"http://www.w3.org/2000/svg\" height=\"24px\"viewBox=\"0 0 24 24\"\n",
              "       width=\"24px\">\n",
              "    <path d=\"M0 0h24v24H0V0z\" fill=\"none\"/>\n",
              "    <path d=\"M18.56 5.44l.94 2.06.94-2.06 2.06-.94-2.06-.94-.94-2.06-.94 2.06-2.06.94zm-11 1L8.5 8.5l.94-2.06 2.06-.94-2.06-.94L8.5 2.5l-.94 2.06-2.06.94zm10 10l.94 2.06.94-2.06 2.06-.94-2.06-.94-.94-2.06-.94 2.06-2.06.94z\"/><path d=\"M17.41 7.96l-1.37-1.37c-.4-.4-.92-.59-1.43-.59-.52 0-1.04.2-1.43.59L10.3 9.45l-7.72 7.72c-.78.78-.78 2.05 0 2.83L4 21.41c.39.39.9.59 1.41.59.51 0 1.02-.2 1.41-.59l7.78-7.78 2.81-2.81c.8-.78.8-2.07 0-2.86zM5.41 20L4 18.59l7.72-7.72 1.47 1.35L5.41 20z\"/>\n",
              "  </svg>\n",
              "      </button>\n",
              "      \n",
              "  <style>\n",
              "    .colab-df-container {\n",
              "      display:flex;\n",
              "      flex-wrap:wrap;\n",
              "      gap: 12px;\n",
              "    }\n",
              "\n",
              "    .colab-df-convert {\n",
              "      background-color: #E8F0FE;\n",
              "      border: none;\n",
              "      border-radius: 50%;\n",
              "      cursor: pointer;\n",
              "      display: none;\n",
              "      fill: #1967D2;\n",
              "      height: 32px;\n",
              "      padding: 0 0 0 0;\n",
              "      width: 32px;\n",
              "    }\n",
              "\n",
              "    .colab-df-convert:hover {\n",
              "      background-color: #E2EBFA;\n",
              "      box-shadow: 0px 1px 2px rgba(60, 64, 67, 0.3), 0px 1px 3px 1px rgba(60, 64, 67, 0.15);\n",
              "      fill: #174EA6;\n",
              "    }\n",
              "\n",
              "    [theme=dark] .colab-df-convert {\n",
              "      background-color: #3B4455;\n",
              "      fill: #D2E3FC;\n",
              "    }\n",
              "\n",
              "    [theme=dark] .colab-df-convert:hover {\n",
              "      background-color: #434B5C;\n",
              "      box-shadow: 0px 1px 3px 1px rgba(0, 0, 0, 0.15);\n",
              "      filter: drop-shadow(0px 1px 2px rgba(0, 0, 0, 0.3));\n",
              "      fill: #FFFFFF;\n",
              "    }\n",
              "  </style>\n",
              "\n",
              "      <script>\n",
              "        const buttonEl =\n",
              "          document.querySelector('#df-d24d7310-a75b-45bc-8e38-7d9c7716f6f2 button.colab-df-convert');\n",
              "        buttonEl.style.display =\n",
              "          google.colab.kernel.accessAllowed ? 'block' : 'none';\n",
              "\n",
              "        async function convertToInteractive(key) {\n",
              "          const element = document.querySelector('#df-d24d7310-a75b-45bc-8e38-7d9c7716f6f2');\n",
              "          const dataTable =\n",
              "            await google.colab.kernel.invokeFunction('convertToInteractive',\n",
              "                                                     [key], {});\n",
              "          if (!dataTable) return;\n",
              "\n",
              "          const docLinkHtml = 'Like what you see? Visit the ' +\n",
              "            '<a target=\"_blank\" href=https://colab.research.google.com/notebooks/data_table.ipynb>data table notebook</a>'\n",
              "            + ' to learn more about interactive tables.';\n",
              "          element.innerHTML = '';\n",
              "          dataTable['output_type'] = 'display_data';\n",
              "          await google.colab.output.renderOutput(dataTable, element);\n",
              "          const docLink = document.createElement('div');\n",
              "          docLink.innerHTML = docLinkHtml;\n",
              "          element.appendChild(docLink);\n",
              "        }\n",
              "      </script>\n",
              "    </div>\n",
              "  </div>\n",
              "  "
            ]
          },
          "metadata": {},
          "execution_count": 175
        }
      ]
    },
    {
      "cell_type": "code",
      "source": [
        "from sklearn.ensemble import RandomForestClassifier\n",
        "from sklearn.model_selection import GridSearchCV"
      ],
      "metadata": {
        "id": "tHZiBcvNGxcC"
      },
      "execution_count": 176,
      "outputs": []
    },
    {
      "cell_type": "code",
      "source": [
        "Model = RandomForestClassifier(random_state=100,n_jobs=-1)\n",
        "\n",
        "params = {'n_estimators':[200],\n",
        "          'max_depth':[3,6,10,15,20,25,30],\n",
        "          'max_features':[0.1,0.15,0.2,0.25,0.3,0.35,0.4,0.45,0.5,0.55,0.6,0.65,0.7]}\n",
        "\n",
        "grid_search = GridSearchCV(estimator=Model,param_grid=params,verbose=1,n_jobs=-1,scoring='accuracy')\n",
        "grid_search.fit(X_train,y_train)"
      ],
      "metadata": {
        "colab": {
          "base_uri": "https://localhost:8080/"
        },
        "id": "rFVxZeNKG2TT",
        "outputId": "fdac9fb5-bed4-4566-c304-9ad0a6edde43"
      },
      "execution_count": 177,
      "outputs": [
        {
          "output_type": "stream",
          "name": "stdout",
          "text": [
            "Fitting 5 folds for each of 91 candidates, totalling 455 fits\n"
          ]
        },
        {
          "output_type": "execute_result",
          "data": {
            "text/plain": [
              "GridSearchCV(estimator=RandomForestClassifier(n_jobs=-1, random_state=100),\n",
              "             n_jobs=-1,\n",
              "             param_grid={'max_depth': [3, 6, 10, 15, 20, 25, 30],\n",
              "                         'max_features': [0.1, 0.15, 0.2, 0.25, 0.3, 0.35, 0.4,\n",
              "                                          0.45, 0.5, 0.55, 0.6, 0.65, 0.7],\n",
              "                         'n_estimators': [200]},\n",
              "             scoring='accuracy', verbose=1)"
            ]
          },
          "metadata": {},
          "execution_count": 177
        }
      ]
    },
    {
      "cell_type": "code",
      "source": [
        "Model_best = grid_search.best_estimator_"
      ],
      "metadata": {
        "id": "N2u5K5Y4G3EC"
      },
      "execution_count": 178,
      "outputs": []
    },
    {
      "cell_type": "code",
      "source": [
        "from sklearn.metrics import accuracy_score, plot_roc_curve"
      ],
      "metadata": {
        "id": "vy4FyRNfHbdi"
      },
      "execution_count": 180,
      "outputs": []
    },
    {
      "cell_type": "code",
      "source": [
        "plot_roc_curve(Model_best,X_train,y_train)\n",
        "y_train_pred = Model_best.predict(X_train)\n",
        "\n",
        "print(accuracy_score(y_train,y_train_pred))"
      ],
      "metadata": {
        "colab": {
          "base_uri": "https://localhost:8080/",
          "height": 303
        },
        "id": "4gUkJ0uSHegQ",
        "outputId": "87206945-33a4-4f5c-bd43-2effa116458e"
      },
      "execution_count": 181,
      "outputs": [
        {
          "output_type": "stream",
          "name": "stdout",
          "text": [
            "1.0\n"
          ]
        },
        {
          "output_type": "display_data",
          "data": {
            "text/plain": [
              "<Figure size 432x288 with 1 Axes>"
            ],
            "image/png": "[encoded data removed]"
          },
          "metadata": {}
        }
      ]
    },
    {
      "cell_type": "code",
      "source": [
        "plot_roc_curve(Model_best,X_train,y_train)\n",
        "y_test_pred = Model_best.predict(X_test)\n",
        "\n",
        "print(accuracy_score(y_test,y_test_pred))"
      ],
      "metadata": {
        "colab": {
          "base_uri": "https://localhost:8080/",
          "height": 303
        },
        "id": "XeNhpUvKHgcP",
        "outputId": "a0b53795-7c8a-46f1-8ed6-2113553954f8"
      },
      "execution_count": 182,
      "outputs": [
        {
          "output_type": "stream",
          "name": "stdout",
          "text": [
            "0.5454545454545454\n"
          ]
        },
        {
          "output_type": "display_data",
          "data": {
            "text/plain": [
              "<Figure size 432x288 with 1 Axes>"
            ],
            "image/png": "[encoded data removed]"
          },
          "metadata": {}
        }
      ]
    },
    {
      "cell_type": "code",
      "source": [
        "Feature_importance = pd.DataFrame({'Feature':X_train.columns,'Importance':Model_best.feature_importances_})\n",
        "Feature_importance.sort_values(by='Importance',ascending=False)\n",
        "Feature_importance"
      ],
      "metadata": {
        "colab": {
          "base_uri": "https://localhost:8080/",
          "height": 206
        },
        "id": "alietfeMHkJg",
        "outputId": "c1e4099b-8ddd-4663-a7d8-470bdc0670cd"
      },
      "execution_count": 183,
      "outputs": [
        {
          "output_type": "execute_result",
          "data": {
            "text/plain": [
              "              Feature  Importance\n",
              "0                YEAR    0.235929\n",
              "1               TEAMS    0.101210\n",
              "2      MATCHES PLAYED    0.152563\n",
              "3        GOALS SCORED    0.289453\n",
              "4  AVG GOALS PER GAME    0.220845"
            ],
            "text/html": [
              "\n",
              "  <div id=\"df-a36a86ca-1602-4bf8-9e11-5258b020f1ea\">\n",
              "    <div class=\"colab-df-container\">\n",
              "      <div>\n",
              "<style scoped>\n",
              "    .dataframe tbody tr th:only-of-type {\n",
              "        vertical-align: middle;\n",
              "    }\n",
              "\n",
              "    .dataframe tbody tr th {\n",
              "        vertical-align: top;\n",
              "    }\n",
              "\n",
              "    .dataframe thead th {\n",
              "        text-align: right;\n",
              "    }\n",
              "</style>\n",
              "<table border=\"1\" class=\"dataframe\">\n",
              "  <thead>\n",
              "    <tr style=\"text-align: right;\">\n",
              "      <th></th>\n",
              "      <th>Feature</th>\n",
              "      <th>Importance</th>\n",
              "    </tr>\n",
              "  </thead>\n",
              "  <tbody>\n",
              "    <tr>\n",
              "      <th>0</th>\n",
              "      <td>YEAR</td>\n",
              "      <td>0.235929</td>\n",
              "    </tr>\n",
              "    <tr>\n",
              "      <th>1</th>\n",
              "      <td>TEAMS</td>\n",
              "      <td>0.101210</td>\n",
              "    </tr>\n",
              "    <tr>\n",
              "      <th>2</th>\n",
              "      <td>MATCHES PLAYED</td>\n",
              "      <td>0.152563</td>\n",
              "    </tr>\n",
              "    <tr>\n",
              "      <th>3</th>\n",
              "      <td>GOALS SCORED</td>\n",
              "      <td>0.289453</td>\n",
              "    </tr>\n",
              "    <tr>\n",
              "      <th>4</th>\n",
              "      <td>AVG GOALS PER GAME</td>\n",
              "      <td>0.220845</td>\n",
              "    </tr>\n",
              "  </tbody>\n",
              "</table>\n",
              "</div>\n",
              "      <button class=\"colab-df-convert\" onclick=\"convertToInteractive('df-a36a86ca-1602-4bf8-9e11-5258b020f1ea')\"\n",
              "              title=\"Convert this dataframe to an interactive table.\"\n",
              "              style=\"display:none;\">\n",
              "        \n",
              "  <svg xmlns=\"http://www.w3.org/2000/svg\" height=\"24px\"viewBox=\"0 0 24 24\"\n",
              "       width=\"24px\">\n",
              "    <path d=\"M0 0h24v24H0V0z\" fill=\"none\"/>\n",
              "    <path d=\"M18.56 5.44l.94 2.06.94-2.06 2.06-.94-2.06-.94-.94-2.06-.94 2.06-2.06.94zm-11 1L8.5 8.5l.94-2.06 2.06-.94-2.06-.94L8.5 2.5l-.94 2.06-2.06.94zm10 10l.94 2.06.94-2.06 2.06-.94-2.06-.94-.94-2.06-.94 2.06-2.06.94z\"/><path d=\"M17.41 7.96l-1.37-1.37c-.4-.4-.92-.59-1.43-.59-.52 0-1.04.2-1.43.59L10.3 9.45l-7.72 7.72c-.78.78-.78 2.05 0 2.83L4 21.41c.39.39.9.59 1.41.59.51 0 1.02-.2 1.41-.59l7.78-7.78 2.81-2.81c.8-.78.8-2.07 0-2.86zM5.41 20L4 18.59l7.72-7.72 1.47 1.35L5.41 20z\"/>\n",
              "  </svg>\n",
              "      </button>\n",
              "      \n",
              "  <style>\n",
              "    .colab-df-container {\n",
              "      display:flex;\n",
              "      flex-wrap:wrap;\n",
              "      gap: 12px;\n",
              "    }\n",
              "\n",
              "    .colab-df-convert {\n",
              "      background-color: #E8F0FE;\n",
              "      border: none;\n",
              "      border-radius: 50%;\n",
              "      cursor: pointer;\n",
              "      display: none;\n",
              "      fill: #1967D2;\n",
              "      height: 32px;\n",
              "      padding: 0 0 0 0;\n",
              "      width: 32px;\n",
              "    }\n",
              "\n",
              "    .colab-df-convert:hover {\n",
              "      background-color: #E2EBFA;\n",
              "      box-shadow: 0px 1px 2px rgba(60, 64, 67, 0.3), 0px 1px 3px 1px rgba(60, 64, 67, 0.15);\n",
              "      fill: #174EA6;\n",
              "    }\n",
              "\n",
              "    [theme=dark] .colab-df-convert {\n",
              "      background-color: #3B4455;\n",
              "      fill: #D2E3FC;\n",
              "    }\n",
              "\n",
              "    [theme=dark] .colab-df-convert:hover {\n",
              "      background-color: #434B5C;\n",
              "      box-shadow: 0px 1px 3px 1px rgba(0, 0, 0, 0.15);\n",
              "      filter: drop-shadow(0px 1px 2px rgba(0, 0, 0, 0.3));\n",
              "      fill: #FFFFFF;\n",
              "    }\n",
              "  </style>\n",
              "\n",
              "      <script>\n",
              "        const buttonEl =\n",
              "          document.querySelector('#df-a36a86ca-1602-4bf8-9e11-5258b020f1ea button.colab-df-convert');\n",
              "        buttonEl.style.display =\n",
              "          google.colab.kernel.accessAllowed ? 'block' : 'none';\n",
              "\n",
              "        async function convertToInteractive(key) {\n",
              "          const element = document.querySelector('#df-a36a86ca-1602-4bf8-9e11-5258b020f1ea');\n",
              "          const dataTable =\n",
              "            await google.colab.kernel.invokeFunction('convertToInteractive',\n",
              "                                                     [key], {});\n",
              "          if (!dataTable) return;\n",
              "\n",
              "          const docLinkHtml = 'Like what you see? Visit the ' +\n",
              "            '<a target=\"_blank\" href=https://colab.research.google.com/notebooks/data_table.ipynb>data table notebook</a>'\n",
              "            + ' to learn more about interactive tables.';\n",
              "          element.innerHTML = '';\n",
              "          dataTable['output_type'] = 'display_data';\n",
              "          await google.colab.output.renderOutput(dataTable, element);\n",
              "          const docLink = document.createElement('div');\n",
              "          docLink.innerHTML = docLinkHtml;\n",
              "          element.appendChild(docLink);\n",
              "        }\n",
              "      </script>\n",
              "    </div>\n",
              "  </div>\n",
              "  "
            ]
          },
          "metadata": {},
          "execution_count": 183
        }
      ]
    },
    {
      "cell_type": "code",
      "source": [],
      "metadata": {
        "id": "doY3myUBHnGk"
      },
      "execution_count": null,
      "outputs": []
    }
  ],
  "metadata": {
    "colab": {
      "provenance": [],
      "authorship_tag": "ABX9TyPPe4Dl+EK3YLkTXFo2rMOV",
      "include_colab_link": true
    },
    "kernelspec": {
      "display_name": "Python 3",
      "name": "python3"
    },
    "language_info": {
      "name": "python"
    }
  },
  "nbformat": 4,
  "nbformat_minor": 0
}